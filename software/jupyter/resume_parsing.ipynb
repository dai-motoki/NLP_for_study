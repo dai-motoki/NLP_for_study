{
 "cells": [
  {
   "cell_type": "markdown",
   "metadata": {},
   "source": [
    "# やることリスト\n",
    "## Google 固有表現認識APIを使ってテスト\n",
    "## ダメだったらRNNやLSTMを使って日本語履歴書に特化した固有表現認識モデル作成[cha.10]（大量ローデータ必要)"
   ]
  },
  {
   "cell_type": "code",
   "execution_count": 2,
   "metadata": {},
   "outputs": [
    {
     "name": "stdout",
     "output_type": "stream",
     "text": [
      "Collecting pdfminer.six\n",
      "  Downloading pdfminer.six-20200124-py3-none-any.whl (5.6 MB)\n",
      "\u001b[K     |████████████████████████████████| 5.6 MB 3.5 MB/s eta 0:00:01     |███████████████████████         | 4.0 MB 3.5 MB/s eta 0:00:01\n",
      "\u001b[?25hRequirement already satisfied: chardet; python_version > \"3.0\" in /opt/conda/lib/python3.7/site-packages (from pdfminer.six) (3.0.4)\n",
      "Collecting sortedcontainers\n",
      "  Downloading sortedcontainers-2.1.0-py2.py3-none-any.whl (28 kB)\n",
      "Collecting pycryptodome\n",
      "  Downloading pycryptodome-3.9.7-cp37-cp37m-manylinux1_x86_64.whl (13.7 MB)\n",
      "\u001b[K     |████████████████████████████████| 13.7 MB 18.6 MB/s eta 0:00:01\n",
      "\u001b[?25hInstalling collected packages: sortedcontainers, pycryptodome, pdfminer.six\n",
      "Successfully installed pdfminer.six-20200124 pycryptodome-3.9.7 sortedcontainers-2.1.0\n"
     ]
    }
   ],
   "source": [
    "!pip install pdfminer.six"
   ]
  },
  {
   "cell_type": "code",
   "execution_count": 3,
   "metadata": {},
   "outputs": [],
   "source": [
    "from pdfminer.pdfinterp import PDFResourceManager, PDFPageInterpreter\n",
    "from pdfminer.converter import TextConverter\n",
    "from pdfminer.layout import LAParams\n",
    "from pdfminer.pdfpage import PDFPage\n",
    "from io import StringIO\n",
    "import re "
   ]
  },
  {
   "cell_type": "code",
   "execution_count": 5,
   "metadata": {},
   "outputs": [],
   "source": [
    "def get_text(pdfname):\n",
    "    # PDFファイル名が未指定の場合は、空文字列を返して終了\n",
    "    if (pdfname == ''):\n",
    "        return ''\n",
    "    else:\n",
    "        # 処理するPDFファイルを開く/開けなければ\n",
    "        try:\n",
    "            fp = open(pdfname, 'rb')\n",
    "        except:\n",
    "            return ''\n",
    "        \n",
    "    # リソースマネージャインスタンス\n",
    "    rsrcmgr = PDFResourceManager()\n",
    "    # 出力先インスタンス\n",
    "    outfp = StringIO()\n",
    "    # パラメータインスタンス\n",
    "    laparams = LAParams()\n",
    "    # 縦書き文字を横並びで出力する\n",
    "    laparams.detect_vertical = True\n",
    "    # デバイスの初期化\n",
    "    device = TextConverter(rsrcmgr, outfp, laparams=laparams)\n",
    "    # テキスト抽出インタプリタインスタンス\n",
    "    interpreter = PDFPageInterpreter(rsrcmgr, device)\n",
    "    # 対象ページを読み、テキスト抽出する。（maxpages：0は全ページ）\n",
    "    for page in PDFPage.get_pages(fp, pagenos=None, maxpages=0, password=None,caching=True, check_extractable=True):\n",
    "        interpreter.process_page(page)\n",
    "    #取得したテキストをすべて読みだす\n",
    "    ret = outfp.getvalue()\n",
    "    # 後始末をしておく    \n",
    "    fp.close()\n",
    "    device.close()\n",
    "    outfp.close()\n",
    "    # 空白と改行をとりさり一塊のテキストとして返す\n",
    "    ret = re.sub(r\"\\s|　\",'',ret)\n",
    "    return ret"
   ]
  },
  {
   "cell_type": "code",
   "execution_count": 6,
   "metadata": {},
   "outputs": [],
   "source": [
    "file_path = './rireki.pdf'"
   ]
  },
  {
   "cell_type": "code",
   "execution_count": 7,
   "metadata": {},
   "outputs": [],
   "source": [
    "result = get_text(file_path)"
   ]
  },
  {
   "cell_type": "code",
   "execution_count": 8,
   "metadata": {},
   "outputs": [
    {
     "data": {
      "text/plain": [
       "'履歴書ふりがなさとういちろう名前砂糖一郎2019年12月25日現在1995年1月1日生（満24歳）男・女ふりがな現住所とうきょうとちよだくさざんたわー〒100-0000東京都千代田区サザンタワーふりがな現住所〒(現住所以外に連絡を希望する場合のみ入力)電話Email証明写真縦36mm〜40mm横24mm〜30mm本人単身胸から上裏面のりづけ電話000-0000-0000Emailtest1@sample.com年月20102013201320174343東京都砂糖高等学校入学東京都砂糖高等学校卒業東京都菓子大学入学東京都菓子大学卒業201710Donuts株式会社入社現在に至る学歴・職歴学歴職歴以上年月学歴・職歴年2012月12TOEIC公開テスト800点取得免許・資格志望動機・特技・アピールポイントなど通勤時間Donutsは、サービスやゲームにおいて1年、2年で終わってしまうようなものではなく、世の中に何らかの価値をもたらし、10年･20年先にもその価値が残り続けるものを目指してプロダクト創りをしています。そのために社会や時流に変化をもたらすもの創り出していこうという扶養家族数（配偶者を除く）約1時間00分電車0人想いを込めてサービスを作り出しています。配偶者有・無配偶者の扶養義務有・無本人希望欄（特に給料・職種・勤務時間・勤務地・その他について希望があれば記入）Donutsは、サービスやゲームにおいて1年、2年で終わってしまうようなものではなく、世の中に何らかの価値をもたらし、10年･20年先にもその価値が残り続けるものを目指してプロダクト創りをしています。そのために社会や時流に変化をもたらすもの創り出していこうという想いを込めてサービスを作り出しています。'"
      ]
     },
     "execution_count": 8,
     "metadata": {},
     "output_type": "execute_result"
    }
   ],
   "source": [
    "result"
   ]
  },
  {
   "cell_type": "code",
   "execution_count": null,
   "metadata": {},
   "outputs": [],
   "source": []
  }
 ],
 "metadata": {
  "kernelspec": {
   "display_name": "Python 3",
   "language": "python",
   "name": "python3"
  },
  "language_info": {
   "codemirror_mode": {
    "name": "ipython",
    "version": 3
   },
   "file_extension": ".py",
   "mimetype": "text/x-python",
   "name": "python",
   "nbconvert_exporter": "python",
   "pygments_lexer": "ipython3",
   "version": "3.7.6"
  },
  "toc": {
   "base_numbering": 1,
   "nav_menu": {},
   "number_sections": true,
   "sideBar": true,
   "skip_h1_title": false,
   "title_cell": "Table of Contents",
   "title_sidebar": "Contents",
   "toc_cell": false,
   "toc_position": {},
   "toc_section_display": true,
   "toc_window_display": false
  }
 },
 "nbformat": 4,
 "nbformat_minor": 4
}
