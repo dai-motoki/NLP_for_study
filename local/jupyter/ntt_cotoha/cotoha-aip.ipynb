{
 "cells": [
  {
   "cell_type": "markdown",
   "metadata": {},
   "source": [
    "# COTOHA API"
   ]
  },
  {
   "cell_type": "code",
   "execution_count": 48,
   "metadata": {
    "code_folding": []
   },
   "outputs": [],
   "source": [
    "import urllib.request\n",
    "import json\n",
    "from pprint import pprint\n",
    "import traceback\n",
    "\n",
    "class CotohaApi:\n",
    "    def __init__(self, client_id, client_secret, developer_api_base_url, access_token_publish_url):\n",
    "        self.client_id = client_id\n",
    "        self.client_secret = client_secret\n",
    "        self.developer_api_base_url = developer_api_base_url\n",
    "        self.access_token_publish_url = access_token_publish_url\n",
    "        self.request_count = 0\n",
    "        self.get_access_token()\n",
    "        \n",
    "    def request(self, url, data):\n",
    "        headers={\n",
    "            \"Authorization\": \"Bearer \" + self.access_token,\n",
    "            \"Content-Type\": \"application/json;charset=UTF-8\",\n",
    "        }\n",
    "        req = urllib.request.Request(url, json.dumps(data).encode(), headers)  \n",
    "        try:\n",
    "            with urllib.request.urlopen(req) as res:\n",
    "                res_body = json.loads(res.read())\n",
    "        except urllib.error.HTTPError as e:\n",
    "            if e.code == 401:\n",
    "                print(e, \": retrieving an access token....\\n\")\n",
    "                self.get_access_token()\n",
    "                headers={\n",
    "                    \"Authorization\": \"Bearer \" + self.access_token,\n",
    "                    \"Content-Type\": \"application/json;charset=UTF-8\",\n",
    "                }\n",
    "                req = urllib.request.Request(url, json.dumps(data).encode(), headers) \n",
    "                with urllib.request.urlopen(req) as res:\n",
    "                    res_body = json.loads(res.read())\n",
    "            else:\n",
    "                print(e)\n",
    "                traceback.print_exc()\n",
    "                return\n",
    "        self.request_count+=1\n",
    "        return res_body, res.status, res.reason      \n",
    "        \n",
    "    def get_access_token(self):\n",
    "        url = self.access_token_publish_url\n",
    "        headers={\n",
    "            \"Content-Type\": \"application/json;charset=UTF-8\",\n",
    "        }\n",
    "        data = {\n",
    "            \"grantType\": \"client_credentials\",\n",
    "            \"clientId\": self.client_id,\n",
    "            \"clientSecret\": self.client_secret\n",
    "        }\n",
    "        req = urllib.request.Request(url, json.dumps(data).encode(), headers)\n",
    "        with urllib.request.urlopen(req) as res:\n",
    "                res_body = json.loads(res.read())\n",
    "        self.request_count+=1\n",
    "        self.access_token = res_body[\"access_token\"]\n",
    "\n",
    "    # 構文解析\n",
    "    def parse(self, sentence):\n",
    "        url = self.developer_api_base_url + \"v1/parse\"\n",
    "        data = {\n",
    "            \"sentence\": sentence\n",
    "        }\n",
    "        res_body, status, reason = self.request(url, data)\n",
    "        return res_body\n",
    "\n",
    "    # 固有表現抽出\n",
    "    def named_entry(self, sentence):\n",
    "        url = self.developer_api_base_url + \"v1/ne\"\n",
    "        data = {\n",
    "            \"sentence\": sentence\n",
    "        }\n",
    "        res_body, status, reason = self.request(url, data)\n",
    "        return res_body\n",
    "\n",
    "    # 照応解析\n",
    "    def coreference(self, document):\n",
    "        url = self.developer_api_base_url + \"v1/coreference\"\n",
    "        data = {\n",
    "            \"document\": document,\n",
    "            \"type\": \"default\",\n",
    "            \"do_segment\":True,\n",
    "        }\n",
    "        res_body, status, reason = self.request(url, data)\n",
    "        return res_body\n",
    "\n",
    "    # キーワード抽出\n",
    "    def keyword(self, document):\n",
    "        url = self.developer_api_base_url + \"v1/keyword\"\n",
    "        data = {\n",
    "            \"document\": document,\n",
    "            \"type\": \"default\",\n",
    "        }\n",
    "        res_body, status, reason = self.request(url, data)\n",
    "        return res_body\n",
    "\n",
    "    # 類似度算出\n",
    "    def similarity(self, s1, s2):\n",
    "        url = self.developer_api_base_url + \"v1/similarity\"\n",
    "        data = {\n",
    "            \"s1\": s1,\n",
    "            \"s2\": s2\n",
    "        }\n",
    "        res_body, status, reason = self.request(url, data)\n",
    "        return res_body\n",
    "\n",
    "    # 文タイプ判定\n",
    "    def sentence_type(self, sentence):\n",
    "        url = self.developer_api_base_url + \"v1/sentence_type\"\n",
    "        data = {\n",
    "            \"sentence\": sentence\n",
    "        }\n",
    "        res_body, status, reason = self.request(url, data)\n",
    "        return res_body\n",
    "\n",
    "    # ユーザ属性推定\n",
    "    def user_attribute(self, document):\n",
    "        url = self.developer_api_base_url + \"beta/user_attribute\"\n",
    "        data = {\n",
    "            \"document\": document\n",
    "        }\n",
    "        res_body, status, reason = self.request(url, data)\n",
    "        return res_body\n",
    "\n",
    "    # 感情分析\n",
    "    def sentiment(self, sentence):\n",
    "        url = self.developer_api_base_url + \"v1/sentiment\"\n",
    "        data = {\n",
    "            \"sentence\": sentence\n",
    "        }\n",
    "        res_body, status, reason = self.request(url, data)\n",
    "        return res_body\n",
    "\n",
    "    # 言い淀み除去(β)\n",
    "    def remove_filter(self, text):\n",
    "        url = self.developer_api_base_url + \"beta/remove_filler\"\n",
    "        data = {\n",
    "            \"text\": text,\n",
    "            \"do_segment\":True,\n",
    "        }\n",
    "        res_body, status, reason = self.request(url, data)\n",
    "        return res_body\n",
    "\n",
    "    # 要約(β)\n",
    "    def summary(self, document, sent_len):\n",
    "        url = self.developer_api_base_url + \"beta/summary\"\n",
    "        data = {\n",
    "            \"document\": document,\n",
    "            \"sent_len\":sent_len,\n",
    "        }\n",
    "        res_body, status, reason = self.request(url, data)\n",
    "        return res_body"
   ]
  },
  {
   "cell_type": "code",
   "execution_count": 49,
   "metadata": {
    "code_folding": [],
    "scrolled": false
   },
   "outputs": [],
   "source": [
    "# Set Environment valiable with Windows Powershell \n",
    "# (venv) PS > $env:CLIENT_SECRET = <your client sercret>\n",
    "# (venv) PS > $env:CLIENT_ID = <your client id>\n",
    "\n",
    "\n",
    "\n",
    "import os\n",
    "CLIENT_ID = 'AIwdHHo60FAdRTAvumuEQ72AdA5rm3E5'\n",
    "CLIENT_SECRET = 'C3eePBLi9L87YMed'\n",
    "ACCESS_TOKEN_PUBLISH_URL=\"https://api.ce-cotoha.com/v1/oauth/accesstokens\"\n",
    "DEVELOPER_API_BASE_URL = \"https://api.ce-cotoha.com/api/dev/\"\n",
    "\n",
    "cotoha_api = CotohaApi(CLIENT_ID, CLIENT_SECRET, \n",
    "                       DEVELOPER_API_BASE_URL, ACCESS_TOKEN_PUBLISH_URL)"
   ]
  },
  {
   "cell_type": "code",
   "execution_count": 50,
   "metadata": {
    "scrolled": false
   },
   "outputs": [],
   "source": [
    "sentence=\"昨日母と銀座で焼き肉を食べた。\"\n",
    "document=\"太郎は友人です。彼は焼き肉を食べた。\""
   ]
  },
  {
   "cell_type": "code",
   "execution_count": 51,
   "metadata": {},
   "outputs": [
    {
     "ename": "AttributeError",
     "evalue": "'str' object has no attribute '__dict__'",
     "output_type": "error",
     "traceback": [
      "\u001b[0;31m---------------------------------------------------------------------------\u001b[0m",
      "\u001b[0;31mAttributeError\u001b[0m                            Traceback (most recent call last)",
      "\u001b[0;32m<ipython-input-51-4ab8743e8c28>\u001b[0m in \u001b[0;36m<module>\u001b[0;34m\u001b[0m\n\u001b[0;32m----> 1\u001b[0;31m \u001b[0msentence\u001b[0m\u001b[0;34m.\u001b[0m\u001b[0m__dict__\u001b[0m\u001b[0;34m(\u001b[0m\u001b[0;34m)\u001b[0m\u001b[0;34m\u001b[0m\u001b[0;34m\u001b[0m\u001b[0m\n\u001b[0m",
      "\u001b[0;31mAttributeError\u001b[0m: 'str' object has no attribute '__dict__'"
     ]
    }
   ],
   "source": [
    "sentence.__dict__()"
   ]
  },
  {
   "cell_type": "markdown",
   "metadata": {},
   "source": [
    "## 構文解析"
   ]
  },
  {
   "cell_type": "code",
   "execution_count": 52,
   "metadata": {
    "code_folding": [],
    "scrolled": false
   },
   "outputs": [
    {
     "name": "stdout",
     "output_type": "stream",
     "text": [
      "HTTP Error 400: Bad Request\n"
     ]
    },
    {
     "name": "stderr",
     "output_type": "stream",
     "text": [
      "Traceback (most recent call last):\n",
      "  File \"<ipython-input-48-bac01209f771>\", line 22, in request\n",
      "    with urllib.request.urlopen(req) as res:\n",
      "  File \"/opt/conda/lib/python3.7/urllib/request.py\", line 222, in urlopen\n",
      "    return opener.open(url, data, timeout)\n",
      "  File \"/opt/conda/lib/python3.7/urllib/request.py\", line 531, in open\n",
      "    response = meth(req, response)\n",
      "  File \"/opt/conda/lib/python3.7/urllib/request.py\", line 641, in http_response\n",
      "    'http', request, response, code, msg, hdrs)\n",
      "  File \"/opt/conda/lib/python3.7/urllib/request.py\", line 563, in error\n",
      "    result = self._call_chain(*args)\n",
      "  File \"/opt/conda/lib/python3.7/urllib/request.py\", line 503, in _call_chain\n",
      "    result = func(*args)\n",
      "  File \"/opt/conda/lib/python3.7/urllib/request.py\", line 755, in http_error_302\n",
      "    return self.parent.open(new, timeout=req.timeout)\n",
      "  File \"/opt/conda/lib/python3.7/urllib/request.py\", line 531, in open\n",
      "    response = meth(req, response)\n",
      "  File \"/opt/conda/lib/python3.7/urllib/request.py\", line 641, in http_response\n",
      "    'http', request, response, code, msg, hdrs)\n",
      "  File \"/opt/conda/lib/python3.7/urllib/request.py\", line 569, in error\n",
      "    return self._call_chain(*args)\n",
      "  File \"/opt/conda/lib/python3.7/urllib/request.py\", line 503, in _call_chain\n",
      "    result = func(*args)\n",
      "  File \"/opt/conda/lib/python3.7/urllib/request.py\", line 649, in http_error_default\n",
      "    raise HTTPError(req.full_url, code, msg, hdrs, fp)\n",
      "urllib.error.HTTPError: HTTP Error 400: Bad Request\n"
     ]
    },
    {
     "ename": "TypeError",
     "evalue": "cannot unpack non-iterable NoneType object",
     "output_type": "error",
     "traceback": [
      "\u001b[0;31m---------------------------------------------------------------------------\u001b[0m",
      "\u001b[0;31mTypeError\u001b[0m                                 Traceback (most recent call last)",
      "\u001b[0;32m<ipython-input-52-a790adb3df96>\u001b[0m in \u001b[0;36m<module>\u001b[0;34m\u001b[0m\n\u001b[1;32m      1\u001b[0m \u001b[0;31m# 構文解析\u001b[0m\u001b[0;34m\u001b[0m\u001b[0;34m\u001b[0m\u001b[0;34m\u001b[0m\u001b[0m\n\u001b[0;32m----> 2\u001b[0;31m \u001b[0mresult\u001b[0m \u001b[0;34m=\u001b[0m \u001b[0mcotoha_api\u001b[0m\u001b[0;34m.\u001b[0m\u001b[0mparse\u001b[0m\u001b[0;34m(\u001b[0m\u001b[0msentence\u001b[0m\u001b[0;34m)\u001b[0m\u001b[0;34m\u001b[0m\u001b[0;34m\u001b[0m\u001b[0m\n\u001b[0m\u001b[1;32m      3\u001b[0m \u001b[0;34m\u001b[0m\u001b[0m\n\u001b[1;32m      4\u001b[0m \u001b[0;32mfor\u001b[0m \u001b[0mid\u001b[0m \u001b[0;32min\u001b[0m \u001b[0mrange\u001b[0m\u001b[0;34m(\u001b[0m\u001b[0mlen\u001b[0m\u001b[0;34m(\u001b[0m\u001b[0mresult\u001b[0m\u001b[0;34m[\u001b[0m\u001b[0;34m'result'\u001b[0m\u001b[0;34m]\u001b[0m\u001b[0;34m)\u001b[0m\u001b[0;34m)\u001b[0m\u001b[0;34m:\u001b[0m\u001b[0;34m\u001b[0m\u001b[0;34m\u001b[0m\u001b[0m\n\u001b[1;32m      5\u001b[0m     \u001b[0mpprint\u001b[0m\u001b[0;34m(\u001b[0m\u001b[0mresult\u001b[0m\u001b[0;34m[\u001b[0m\u001b[0;34m'result'\u001b[0m\u001b[0;34m]\u001b[0m\u001b[0;34m[\u001b[0m\u001b[0mid\u001b[0m\u001b[0;34m]\u001b[0m\u001b[0;34m[\u001b[0m\u001b[0;34m'tokens'\u001b[0m\u001b[0;34m]\u001b[0m\u001b[0;34m[\u001b[0m\u001b[0;36m0\u001b[0m\u001b[0;34m]\u001b[0m\u001b[0;34m)\u001b[0m\u001b[0;34m\u001b[0m\u001b[0;34m\u001b[0m\u001b[0m\n",
      "\u001b[0;32m<ipython-input-48-bac01209f771>\u001b[0m in \u001b[0;36mparse\u001b[0;34m(self, sentence)\u001b[0m\n\u001b[1;32m     62\u001b[0m             \u001b[0;34m\"sentence\"\u001b[0m\u001b[0;34m:\u001b[0m \u001b[0msentence\u001b[0m\u001b[0;34m\u001b[0m\u001b[0;34m\u001b[0m\u001b[0m\n\u001b[1;32m     63\u001b[0m         }\n\u001b[0;32m---> 64\u001b[0;31m         \u001b[0mres_body\u001b[0m\u001b[0;34m,\u001b[0m \u001b[0mstatus\u001b[0m\u001b[0;34m,\u001b[0m \u001b[0mreason\u001b[0m \u001b[0;34m=\u001b[0m \u001b[0mself\u001b[0m\u001b[0;34m.\u001b[0m\u001b[0mrequest\u001b[0m\u001b[0;34m(\u001b[0m\u001b[0murl\u001b[0m\u001b[0;34m,\u001b[0m \u001b[0mdata\u001b[0m\u001b[0;34m)\u001b[0m\u001b[0;34m\u001b[0m\u001b[0;34m\u001b[0m\u001b[0m\n\u001b[0m\u001b[1;32m     65\u001b[0m         \u001b[0;32mreturn\u001b[0m \u001b[0mres_body\u001b[0m\u001b[0;34m\u001b[0m\u001b[0;34m\u001b[0m\u001b[0m\n\u001b[1;32m     66\u001b[0m \u001b[0;34m\u001b[0m\u001b[0m\n",
      "\u001b[0;31mTypeError\u001b[0m: cannot unpack non-iterable NoneType object"
     ]
    }
   ],
   "source": [
    "# 構文解析\n",
    "result = cotoha_api.parse(sentence)\n",
    "\n",
    "for id in range(len(result['result'])):\n",
    "    pprint(result['result'][id]['tokens'][0])"
   ]
  },
  {
   "cell_type": "code",
   "execution_count": 24,
   "metadata": {},
   "outputs": [
    {
     "ename": "NameError",
     "evalue": "name 'result' is not defined",
     "output_type": "error",
     "traceback": [
      "\u001b[0;31m---------------------------------------------------------------------------\u001b[0m",
      "\u001b[0;31mNameError\u001b[0m                                 Traceback (most recent call last)",
      "\u001b[0;32m<ipython-input-24-00ad1162619d>\u001b[0m in \u001b[0;36m<module>\u001b[0;34m\u001b[0m\n\u001b[1;32m      1\u001b[0m \u001b[0mword_classes\u001b[0m\u001b[0;34m=\u001b[0m\u001b[0;34m[\u001b[0m\u001b[0;34m\"名詞\"\u001b[0m\u001b[0;34m,\u001b[0m \u001b[0;34m\"動詞語幹\"\u001b[0m\u001b[0;34m,\u001b[0m \u001b[0;34m\"句点\"\u001b[0m\u001b[0;34m]\u001b[0m\u001b[0;34m\u001b[0m\u001b[0;34m\u001b[0m\u001b[0m\n\u001b[0;32m----> 2\u001b[0;31m \u001b[0;32mfor\u001b[0m \u001b[0mi\u001b[0m \u001b[0;32min\u001b[0m \u001b[0mrange\u001b[0m\u001b[0;34m(\u001b[0m\u001b[0mlen\u001b[0m\u001b[0;34m(\u001b[0m\u001b[0mresult\u001b[0m\u001b[0;34m[\u001b[0m\u001b[0;34m'result'\u001b[0m\u001b[0;34m]\u001b[0m\u001b[0;34m)\u001b[0m\u001b[0;34m)\u001b[0m\u001b[0;34m:\u001b[0m\u001b[0;34m\u001b[0m\u001b[0;34m\u001b[0m\u001b[0m\n\u001b[0m\u001b[1;32m      3\u001b[0m     \u001b[0;32mfor\u001b[0m \u001b[0mword_class\u001b[0m \u001b[0;32min\u001b[0m \u001b[0mword_classes\u001b[0m\u001b[0;34m:\u001b[0m\u001b[0;34m\u001b[0m\u001b[0;34m\u001b[0m\u001b[0m\n\u001b[1;32m      4\u001b[0m         \u001b[0;32mfor\u001b[0m \u001b[0mj\u001b[0m \u001b[0;32min\u001b[0m \u001b[0mrange\u001b[0m\u001b[0;34m(\u001b[0m\u001b[0mlen\u001b[0m\u001b[0;34m(\u001b[0m\u001b[0mresult\u001b[0m\u001b[0;34m[\u001b[0m\u001b[0;34m'result'\u001b[0m\u001b[0;34m]\u001b[0m\u001b[0;34m[\u001b[0m\u001b[0mi\u001b[0m\u001b[0;34m]\u001b[0m\u001b[0;34m[\u001b[0m\u001b[0;34m'tokens'\u001b[0m\u001b[0;34m]\u001b[0m\u001b[0;34m)\u001b[0m\u001b[0;34m)\u001b[0m\u001b[0;34m:\u001b[0m\u001b[0;34m\u001b[0m\u001b[0;34m\u001b[0m\u001b[0m\n\u001b[1;32m      5\u001b[0m             \u001b[0;32mif\u001b[0m \u001b[0mresult\u001b[0m\u001b[0;34m[\u001b[0m\u001b[0;34m'result'\u001b[0m\u001b[0;34m]\u001b[0m\u001b[0;34m[\u001b[0m\u001b[0mi\u001b[0m\u001b[0;34m]\u001b[0m\u001b[0;34m[\u001b[0m\u001b[0;34m'tokens'\u001b[0m\u001b[0;34m]\u001b[0m\u001b[0;34m[\u001b[0m\u001b[0mj\u001b[0m\u001b[0;34m]\u001b[0m\u001b[0;34m[\u001b[0m\u001b[0;34m'pos'\u001b[0m\u001b[0;34m]\u001b[0m \u001b[0;34m==\u001b[0m \u001b[0mword_class\u001b[0m\u001b[0;34m:\u001b[0m\u001b[0;34m\u001b[0m\u001b[0;34m\u001b[0m\u001b[0m\n",
      "\u001b[0;31mNameError\u001b[0m: name 'result' is not defined"
     ]
    }
   ],
   "source": [
    "word_classes=[\"名詞\", \"動詞語幹\", \"句点\"]\n",
    "for i in range(len(result['result'])):\n",
    "    for word_class in word_classes:\n",
    "        for j in range(len(result['result'][i]['tokens'])):\n",
    "            if result['result'][i]['tokens'][j]['pos'] == word_class:\n",
    "                print(i, result['result'][i]['tokens'][j]['lemma'])"
   ]
  },
  {
   "cell_type": "markdown",
   "metadata": {},
   "source": [
    "## 固有表現抽出API"
   ]
  },
  {
   "cell_type": "code",
   "execution_count": 25,
   "metadata": {},
   "outputs": [
    {
     "name": "stdout",
     "output_type": "stream",
     "text": [
      "HTTP Error 400: Bad Request\n"
     ]
    },
    {
     "name": "stderr",
     "output_type": "stream",
     "text": [
      "Traceback (most recent call last):\n",
      "  File \"<ipython-input-2-bac01209f771>\", line 22, in request\n",
      "    with urllib.request.urlopen(req) as res:\n",
      "  File \"/opt/conda/lib/python3.7/urllib/request.py\", line 222, in urlopen\n",
      "    return opener.open(url, data, timeout)\n",
      "  File \"/opt/conda/lib/python3.7/urllib/request.py\", line 531, in open\n",
      "    response = meth(req, response)\n",
      "  File \"/opt/conda/lib/python3.7/urllib/request.py\", line 641, in http_response\n",
      "    'http', request, response, code, msg, hdrs)\n",
      "  File \"/opt/conda/lib/python3.7/urllib/request.py\", line 563, in error\n",
      "    result = self._call_chain(*args)\n",
      "  File \"/opt/conda/lib/python3.7/urllib/request.py\", line 503, in _call_chain\n",
      "    result = func(*args)\n",
      "  File \"/opt/conda/lib/python3.7/urllib/request.py\", line 755, in http_error_302\n",
      "    return self.parent.open(new, timeout=req.timeout)\n",
      "  File \"/opt/conda/lib/python3.7/urllib/request.py\", line 531, in open\n",
      "    response = meth(req, response)\n",
      "  File \"/opt/conda/lib/python3.7/urllib/request.py\", line 641, in http_response\n",
      "    'http', request, response, code, msg, hdrs)\n",
      "  File \"/opt/conda/lib/python3.7/urllib/request.py\", line 569, in error\n",
      "    return self._call_chain(*args)\n",
      "  File \"/opt/conda/lib/python3.7/urllib/request.py\", line 503, in _call_chain\n",
      "    result = func(*args)\n",
      "  File \"/opt/conda/lib/python3.7/urllib/request.py\", line 649, in http_error_default\n",
      "    raise HTTPError(req.full_url, code, msg, hdrs, fp)\n",
      "urllib.error.HTTPError: HTTP Error 400: Bad Request\n"
     ]
    },
    {
     "ename": "TypeError",
     "evalue": "cannot unpack non-iterable NoneType object",
     "output_type": "error",
     "traceback": [
      "\u001b[0;31m---------------------------------------------------------------------------\u001b[0m",
      "\u001b[0;31mTypeError\u001b[0m                                 Traceback (most recent call last)",
      "\u001b[0;32m<ipython-input-25-49fab1b2283e>\u001b[0m in \u001b[0;36m<module>\u001b[0;34m\u001b[0m\n\u001b[1;32m      1\u001b[0m \u001b[0;31m# 固有表現抽出API\u001b[0m\u001b[0;34m\u001b[0m\u001b[0;34m\u001b[0m\u001b[0;34m\u001b[0m\u001b[0m\n\u001b[0;32m----> 2\u001b[0;31m \u001b[0mresult\u001b[0m \u001b[0;34m=\u001b[0m \u001b[0mcotoha_api\u001b[0m\u001b[0;34m.\u001b[0m\u001b[0mnamed_entry\u001b[0m\u001b[0;34m(\u001b[0m\u001b[0msentence\u001b[0m\u001b[0;34m)\u001b[0m\u001b[0;34m\u001b[0m\u001b[0;34m\u001b[0m\u001b[0m\n\u001b[0m\u001b[1;32m      3\u001b[0m \u001b[0mpprint\u001b[0m\u001b[0;34m(\u001b[0m\u001b[0mresult\u001b[0m\u001b[0;34m)\u001b[0m\u001b[0;34m\u001b[0m\u001b[0;34m\u001b[0m\u001b[0m\n",
      "\u001b[0;32m<ipython-input-2-bac01209f771>\u001b[0m in \u001b[0;36mnamed_entry\u001b[0;34m(self, sentence)\u001b[0m\n\u001b[1;32m     71\u001b[0m             \u001b[0;34m\"sentence\"\u001b[0m\u001b[0;34m:\u001b[0m \u001b[0msentence\u001b[0m\u001b[0;34m\u001b[0m\u001b[0;34m\u001b[0m\u001b[0m\n\u001b[1;32m     72\u001b[0m         }\n\u001b[0;32m---> 73\u001b[0;31m         \u001b[0mres_body\u001b[0m\u001b[0;34m,\u001b[0m \u001b[0mstatus\u001b[0m\u001b[0;34m,\u001b[0m \u001b[0mreason\u001b[0m \u001b[0;34m=\u001b[0m \u001b[0mself\u001b[0m\u001b[0;34m.\u001b[0m\u001b[0mrequest\u001b[0m\u001b[0;34m(\u001b[0m\u001b[0murl\u001b[0m\u001b[0;34m,\u001b[0m \u001b[0mdata\u001b[0m\u001b[0;34m)\u001b[0m\u001b[0;34m\u001b[0m\u001b[0;34m\u001b[0m\u001b[0m\n\u001b[0m\u001b[1;32m     74\u001b[0m         \u001b[0;32mreturn\u001b[0m \u001b[0mres_body\u001b[0m\u001b[0;34m\u001b[0m\u001b[0;34m\u001b[0m\u001b[0m\n\u001b[1;32m     75\u001b[0m \u001b[0;34m\u001b[0m\u001b[0m\n",
      "\u001b[0;31mTypeError\u001b[0m: cannot unpack non-iterable NoneType object"
     ]
    }
   ],
   "source": [
    "# 固有表現抽出API\n",
    "result = cotoha_api.named_entry(sentence)\n",
    "pprint(result)"
   ]
  },
  {
   "cell_type": "markdown",
   "metadata": {},
   "source": [
    "## 照応解析API"
   ]
  },
  {
   "cell_type": "code",
   "execution_count": 26,
   "metadata": {
    "scrolled": false
   },
   "outputs": [
    {
     "name": "stdout",
     "output_type": "stream",
     "text": [
      "HTTP Error 400: Bad Request\n"
     ]
    },
    {
     "name": "stderr",
     "output_type": "stream",
     "text": [
      "Traceback (most recent call last):\n",
      "  File \"<ipython-input-2-bac01209f771>\", line 22, in request\n",
      "    with urllib.request.urlopen(req) as res:\n",
      "  File \"/opt/conda/lib/python3.7/urllib/request.py\", line 222, in urlopen\n",
      "    return opener.open(url, data, timeout)\n",
      "  File \"/opt/conda/lib/python3.7/urllib/request.py\", line 531, in open\n",
      "    response = meth(req, response)\n",
      "  File \"/opt/conda/lib/python3.7/urllib/request.py\", line 641, in http_response\n",
      "    'http', request, response, code, msg, hdrs)\n",
      "  File \"/opt/conda/lib/python3.7/urllib/request.py\", line 563, in error\n",
      "    result = self._call_chain(*args)\n",
      "  File \"/opt/conda/lib/python3.7/urllib/request.py\", line 503, in _call_chain\n",
      "    result = func(*args)\n",
      "  File \"/opt/conda/lib/python3.7/urllib/request.py\", line 755, in http_error_302\n",
      "    return self.parent.open(new, timeout=req.timeout)\n",
      "  File \"/opt/conda/lib/python3.7/urllib/request.py\", line 531, in open\n",
      "    response = meth(req, response)\n",
      "  File \"/opt/conda/lib/python3.7/urllib/request.py\", line 641, in http_response\n",
      "    'http', request, response, code, msg, hdrs)\n",
      "  File \"/opt/conda/lib/python3.7/urllib/request.py\", line 569, in error\n",
      "    return self._call_chain(*args)\n",
      "  File \"/opt/conda/lib/python3.7/urllib/request.py\", line 503, in _call_chain\n",
      "    result = func(*args)\n",
      "  File \"/opt/conda/lib/python3.7/urllib/request.py\", line 649, in http_error_default\n",
      "    raise HTTPError(req.full_url, code, msg, hdrs, fp)\n",
      "urllib.error.HTTPError: HTTP Error 400: Bad Request\n"
     ]
    },
    {
     "ename": "TypeError",
     "evalue": "cannot unpack non-iterable NoneType object",
     "output_type": "error",
     "traceback": [
      "\u001b[0;31m---------------------------------------------------------------------------\u001b[0m",
      "\u001b[0;31mTypeError\u001b[0m                                 Traceback (most recent call last)",
      "\u001b[0;32m<ipython-input-26-e3b4478d76ee>\u001b[0m in \u001b[0;36m<module>\u001b[0;34m\u001b[0m\n\u001b[1;32m      1\u001b[0m \u001b[0;31m# 照応解析API\u001b[0m\u001b[0;34m\u001b[0m\u001b[0;34m\u001b[0m\u001b[0;34m\u001b[0m\u001b[0m\n\u001b[0;32m----> 2\u001b[0;31m \u001b[0mresult\u001b[0m \u001b[0;34m=\u001b[0m \u001b[0mcotoha_api\u001b[0m\u001b[0;34m.\u001b[0m\u001b[0mcoreference\u001b[0m\u001b[0;34m(\u001b[0m\u001b[0mdocument\u001b[0m\u001b[0;34m)\u001b[0m\u001b[0;34m\u001b[0m\u001b[0;34m\u001b[0m\u001b[0m\n\u001b[0m\u001b[1;32m      3\u001b[0m \u001b[0mpprint\u001b[0m\u001b[0;34m(\u001b[0m\u001b[0mresult\u001b[0m\u001b[0;34m)\u001b[0m\u001b[0;34m\u001b[0m\u001b[0;34m\u001b[0m\u001b[0m\n",
      "\u001b[0;32m<ipython-input-2-bac01209f771>\u001b[0m in \u001b[0;36mcoreference\u001b[0;34m(self, document)\u001b[0m\n\u001b[1;32m     82\u001b[0m             \u001b[0;34m\"do_segment\"\u001b[0m\u001b[0;34m:\u001b[0m\u001b[0;32mTrue\u001b[0m\u001b[0;34m,\u001b[0m\u001b[0;34m\u001b[0m\u001b[0;34m\u001b[0m\u001b[0m\n\u001b[1;32m     83\u001b[0m         }\n\u001b[0;32m---> 84\u001b[0;31m         \u001b[0mres_body\u001b[0m\u001b[0;34m,\u001b[0m \u001b[0mstatus\u001b[0m\u001b[0;34m,\u001b[0m \u001b[0mreason\u001b[0m \u001b[0;34m=\u001b[0m \u001b[0mself\u001b[0m\u001b[0;34m.\u001b[0m\u001b[0mrequest\u001b[0m\u001b[0;34m(\u001b[0m\u001b[0murl\u001b[0m\u001b[0;34m,\u001b[0m \u001b[0mdata\u001b[0m\u001b[0;34m)\u001b[0m\u001b[0;34m\u001b[0m\u001b[0;34m\u001b[0m\u001b[0m\n\u001b[0m\u001b[1;32m     85\u001b[0m         \u001b[0;32mreturn\u001b[0m \u001b[0mres_body\u001b[0m\u001b[0;34m\u001b[0m\u001b[0;34m\u001b[0m\u001b[0m\n\u001b[1;32m     86\u001b[0m \u001b[0;34m\u001b[0m\u001b[0m\n",
      "\u001b[0;31mTypeError\u001b[0m: cannot unpack non-iterable NoneType object"
     ]
    }
   ],
   "source": [
    "# 照応解析API\n",
    "result = cotoha_api.coreference(document)\n",
    "pprint(result)"
   ]
  },
  {
   "cell_type": "markdown",
   "metadata": {},
   "source": [
    "## キーワード抽出API"
   ]
  },
  {
   "cell_type": "code",
   "execution_count": 27,
   "metadata": {},
   "outputs": [
    {
     "name": "stdout",
     "output_type": "stream",
     "text": [
      "HTTP Error 400: Bad Request\n"
     ]
    },
    {
     "name": "stderr",
     "output_type": "stream",
     "text": [
      "Traceback (most recent call last):\n",
      "  File \"<ipython-input-2-bac01209f771>\", line 22, in request\n",
      "    with urllib.request.urlopen(req) as res:\n",
      "  File \"/opt/conda/lib/python3.7/urllib/request.py\", line 222, in urlopen\n",
      "    return opener.open(url, data, timeout)\n",
      "  File \"/opt/conda/lib/python3.7/urllib/request.py\", line 531, in open\n",
      "    response = meth(req, response)\n",
      "  File \"/opt/conda/lib/python3.7/urllib/request.py\", line 641, in http_response\n",
      "    'http', request, response, code, msg, hdrs)\n",
      "  File \"/opt/conda/lib/python3.7/urllib/request.py\", line 563, in error\n",
      "    result = self._call_chain(*args)\n",
      "  File \"/opt/conda/lib/python3.7/urllib/request.py\", line 503, in _call_chain\n",
      "    result = func(*args)\n",
      "  File \"/opt/conda/lib/python3.7/urllib/request.py\", line 755, in http_error_302\n",
      "    return self.parent.open(new, timeout=req.timeout)\n",
      "  File \"/opt/conda/lib/python3.7/urllib/request.py\", line 531, in open\n",
      "    response = meth(req, response)\n",
      "  File \"/opt/conda/lib/python3.7/urllib/request.py\", line 641, in http_response\n",
      "    'http', request, response, code, msg, hdrs)\n",
      "  File \"/opt/conda/lib/python3.7/urllib/request.py\", line 569, in error\n",
      "    return self._call_chain(*args)\n",
      "  File \"/opt/conda/lib/python3.7/urllib/request.py\", line 503, in _call_chain\n",
      "    result = func(*args)\n",
      "  File \"/opt/conda/lib/python3.7/urllib/request.py\", line 649, in http_error_default\n",
      "    raise HTTPError(req.full_url, code, msg, hdrs, fp)\n",
      "urllib.error.HTTPError: HTTP Error 400: Bad Request\n"
     ]
    },
    {
     "ename": "TypeError",
     "evalue": "cannot unpack non-iterable NoneType object",
     "output_type": "error",
     "traceback": [
      "\u001b[0;31m---------------------------------------------------------------------------\u001b[0m",
      "\u001b[0;31mTypeError\u001b[0m                                 Traceback (most recent call last)",
      "\u001b[0;32m<ipython-input-27-0ecca3b0f129>\u001b[0m in \u001b[0;36m<module>\u001b[0;34m\u001b[0m\n\u001b[1;32m      1\u001b[0m \u001b[0;31m# キーワード抽出API\u001b[0m\u001b[0;34m\u001b[0m\u001b[0;34m\u001b[0m\u001b[0;34m\u001b[0m\u001b[0m\n\u001b[0;32m----> 2\u001b[0;31m \u001b[0mresult\u001b[0m \u001b[0;34m=\u001b[0m \u001b[0mcotoha_api\u001b[0m\u001b[0;34m.\u001b[0m\u001b[0mkeyword\u001b[0m\u001b[0;34m(\u001b[0m\u001b[0mdocument\u001b[0m\u001b[0;34m)\u001b[0m\u001b[0;34m\u001b[0m\u001b[0;34m\u001b[0m\u001b[0m\n\u001b[0m\u001b[1;32m      3\u001b[0m \u001b[0mpprint\u001b[0m\u001b[0;34m(\u001b[0m\u001b[0mresult\u001b[0m\u001b[0;34m)\u001b[0m\u001b[0;34m\u001b[0m\u001b[0;34m\u001b[0m\u001b[0m\n",
      "\u001b[0;32m<ipython-input-2-bac01209f771>\u001b[0m in \u001b[0;36mkeyword\u001b[0;34m(self, document)\u001b[0m\n\u001b[1;32m     92\u001b[0m             \u001b[0;34m\"type\"\u001b[0m\u001b[0;34m:\u001b[0m \u001b[0;34m\"default\"\u001b[0m\u001b[0;34m,\u001b[0m\u001b[0;34m\u001b[0m\u001b[0;34m\u001b[0m\u001b[0m\n\u001b[1;32m     93\u001b[0m         }\n\u001b[0;32m---> 94\u001b[0;31m         \u001b[0mres_body\u001b[0m\u001b[0;34m,\u001b[0m \u001b[0mstatus\u001b[0m\u001b[0;34m,\u001b[0m \u001b[0mreason\u001b[0m \u001b[0;34m=\u001b[0m \u001b[0mself\u001b[0m\u001b[0;34m.\u001b[0m\u001b[0mrequest\u001b[0m\u001b[0;34m(\u001b[0m\u001b[0murl\u001b[0m\u001b[0;34m,\u001b[0m \u001b[0mdata\u001b[0m\u001b[0;34m)\u001b[0m\u001b[0;34m\u001b[0m\u001b[0;34m\u001b[0m\u001b[0m\n\u001b[0m\u001b[1;32m     95\u001b[0m         \u001b[0;32mreturn\u001b[0m \u001b[0mres_body\u001b[0m\u001b[0;34m\u001b[0m\u001b[0;34m\u001b[0m\u001b[0m\n\u001b[1;32m     96\u001b[0m \u001b[0;34m\u001b[0m\u001b[0m\n",
      "\u001b[0;31mTypeError\u001b[0m: cannot unpack non-iterable NoneType object"
     ]
    }
   ],
   "source": [
    "# キーワード抽出API\n",
    "result = cotoha_api.keyword(document)\n",
    "pprint(result)"
   ]
  },
  {
   "cell_type": "markdown",
   "metadata": {},
   "source": [
    "## 類似度算出API"
   ]
  },
  {
   "cell_type": "code",
   "execution_count": 28,
   "metadata": {},
   "outputs": [
    {
     "name": "stdout",
     "output_type": "stream",
     "text": [
      "HTTP Error 400: Bad Request\n"
     ]
    },
    {
     "name": "stderr",
     "output_type": "stream",
     "text": [
      "Traceback (most recent call last):\n",
      "  File \"<ipython-input-2-bac01209f771>\", line 22, in request\n",
      "    with urllib.request.urlopen(req) as res:\n",
      "  File \"/opt/conda/lib/python3.7/urllib/request.py\", line 222, in urlopen\n",
      "    return opener.open(url, data, timeout)\n",
      "  File \"/opt/conda/lib/python3.7/urllib/request.py\", line 531, in open\n",
      "    response = meth(req, response)\n",
      "  File \"/opt/conda/lib/python3.7/urllib/request.py\", line 641, in http_response\n",
      "    'http', request, response, code, msg, hdrs)\n",
      "  File \"/opt/conda/lib/python3.7/urllib/request.py\", line 563, in error\n",
      "    result = self._call_chain(*args)\n",
      "  File \"/opt/conda/lib/python3.7/urllib/request.py\", line 503, in _call_chain\n",
      "    result = func(*args)\n",
      "  File \"/opt/conda/lib/python3.7/urllib/request.py\", line 755, in http_error_302\n",
      "    return self.parent.open(new, timeout=req.timeout)\n",
      "  File \"/opt/conda/lib/python3.7/urllib/request.py\", line 531, in open\n",
      "    response = meth(req, response)\n",
      "  File \"/opt/conda/lib/python3.7/urllib/request.py\", line 641, in http_response\n",
      "    'http', request, response, code, msg, hdrs)\n",
      "  File \"/opt/conda/lib/python3.7/urllib/request.py\", line 569, in error\n",
      "    return self._call_chain(*args)\n",
      "  File \"/opt/conda/lib/python3.7/urllib/request.py\", line 503, in _call_chain\n",
      "    result = func(*args)\n",
      "  File \"/opt/conda/lib/python3.7/urllib/request.py\", line 649, in http_error_default\n",
      "    raise HTTPError(req.full_url, code, msg, hdrs, fp)\n",
      "urllib.error.HTTPError: HTTP Error 400: Bad Request\n"
     ]
    },
    {
     "ename": "TypeError",
     "evalue": "cannot unpack non-iterable NoneType object",
     "output_type": "error",
     "traceback": [
      "\u001b[0;31m---------------------------------------------------------------------------\u001b[0m",
      "\u001b[0;31mTypeError\u001b[0m                                 Traceback (most recent call last)",
      "\u001b[0;32m<ipython-input-28-9e7ca002e71b>\u001b[0m in \u001b[0;36m<module>\u001b[0;34m\u001b[0m\n\u001b[1;32m      2\u001b[0m \u001b[0ms1\u001b[0m\u001b[0;34m=\u001b[0m\u001b[0;34m\"近くのレストランはどこですか？\"\u001b[0m\u001b[0;34m\u001b[0m\u001b[0;34m\u001b[0m\u001b[0m\n\u001b[1;32m      3\u001b[0m \u001b[0ms2\u001b[0m\u001b[0;34m=\u001b[0m\u001b[0;34m\"このあたりの定食屋はどこにありますか？\"\u001b[0m\u001b[0;34m\u001b[0m\u001b[0;34m\u001b[0m\u001b[0m\n\u001b[0;32m----> 4\u001b[0;31m \u001b[0mresult\u001b[0m \u001b[0;34m=\u001b[0m \u001b[0mcotoha_api\u001b[0m\u001b[0;34m.\u001b[0m\u001b[0msimilarity\u001b[0m\u001b[0;34m(\u001b[0m\u001b[0ms1\u001b[0m\u001b[0;34m,\u001b[0m \u001b[0ms2\u001b[0m\u001b[0;34m)\u001b[0m\u001b[0;34m\u001b[0m\u001b[0;34m\u001b[0m\u001b[0m\n\u001b[0m\u001b[1;32m      5\u001b[0m \u001b[0mpprint\u001b[0m\u001b[0;34m(\u001b[0m\u001b[0mresult\u001b[0m\u001b[0;34m)\u001b[0m\u001b[0;34m\u001b[0m\u001b[0;34m\u001b[0m\u001b[0m\n",
      "\u001b[0;32m<ipython-input-2-bac01209f771>\u001b[0m in \u001b[0;36msimilarity\u001b[0;34m(self, s1, s2)\u001b[0m\n\u001b[1;32m    102\u001b[0m             \u001b[0;34m\"s2\"\u001b[0m\u001b[0;34m:\u001b[0m \u001b[0ms2\u001b[0m\u001b[0;34m\u001b[0m\u001b[0;34m\u001b[0m\u001b[0m\n\u001b[1;32m    103\u001b[0m         }\n\u001b[0;32m--> 104\u001b[0;31m         \u001b[0mres_body\u001b[0m\u001b[0;34m,\u001b[0m \u001b[0mstatus\u001b[0m\u001b[0;34m,\u001b[0m \u001b[0mreason\u001b[0m \u001b[0;34m=\u001b[0m \u001b[0mself\u001b[0m\u001b[0;34m.\u001b[0m\u001b[0mrequest\u001b[0m\u001b[0;34m(\u001b[0m\u001b[0murl\u001b[0m\u001b[0;34m,\u001b[0m \u001b[0mdata\u001b[0m\u001b[0;34m)\u001b[0m\u001b[0;34m\u001b[0m\u001b[0;34m\u001b[0m\u001b[0m\n\u001b[0m\u001b[1;32m    105\u001b[0m         \u001b[0;32mreturn\u001b[0m \u001b[0mres_body\u001b[0m\u001b[0;34m\u001b[0m\u001b[0;34m\u001b[0m\u001b[0m\n\u001b[1;32m    106\u001b[0m \u001b[0;34m\u001b[0m\u001b[0m\n",
      "\u001b[0;31mTypeError\u001b[0m: cannot unpack non-iterable NoneType object"
     ]
    }
   ],
   "source": [
    "# 類似度算出API\n",
    "s1=\"近くのレストランはどこですか？\"\n",
    "s2=\"このあたりの定食屋はどこにありますか？\"\n",
    "result = cotoha_api.similarity(s1, s2)\n",
    "pprint(result)"
   ]
  },
  {
   "cell_type": "markdown",
   "metadata": {},
   "source": [
    "## 文タイプ判定API"
   ]
  },
  {
   "cell_type": "code",
   "execution_count": 29,
   "metadata": {},
   "outputs": [
    {
     "name": "stdout",
     "output_type": "stream",
     "text": [
      "HTTP Error 400: Bad Request\n"
     ]
    },
    {
     "name": "stderr",
     "output_type": "stream",
     "text": [
      "Traceback (most recent call last):\n",
      "  File \"<ipython-input-2-bac01209f771>\", line 22, in request\n",
      "    with urllib.request.urlopen(req) as res:\n",
      "  File \"/opt/conda/lib/python3.7/urllib/request.py\", line 222, in urlopen\n",
      "    return opener.open(url, data, timeout)\n",
      "  File \"/opt/conda/lib/python3.7/urllib/request.py\", line 531, in open\n",
      "    response = meth(req, response)\n",
      "  File \"/opt/conda/lib/python3.7/urllib/request.py\", line 641, in http_response\n",
      "    'http', request, response, code, msg, hdrs)\n",
      "  File \"/opt/conda/lib/python3.7/urllib/request.py\", line 563, in error\n",
      "    result = self._call_chain(*args)\n",
      "  File \"/opt/conda/lib/python3.7/urllib/request.py\", line 503, in _call_chain\n",
      "    result = func(*args)\n",
      "  File \"/opt/conda/lib/python3.7/urllib/request.py\", line 755, in http_error_302\n",
      "    return self.parent.open(new, timeout=req.timeout)\n",
      "  File \"/opt/conda/lib/python3.7/urllib/request.py\", line 531, in open\n",
      "    response = meth(req, response)\n",
      "  File \"/opt/conda/lib/python3.7/urllib/request.py\", line 641, in http_response\n",
      "    'http', request, response, code, msg, hdrs)\n",
      "  File \"/opt/conda/lib/python3.7/urllib/request.py\", line 569, in error\n",
      "    return self._call_chain(*args)\n",
      "  File \"/opt/conda/lib/python3.7/urllib/request.py\", line 503, in _call_chain\n",
      "    result = func(*args)\n",
      "  File \"/opt/conda/lib/python3.7/urllib/request.py\", line 649, in http_error_default\n",
      "    raise HTTPError(req.full_url, code, msg, hdrs, fp)\n",
      "urllib.error.HTTPError: HTTP Error 400: Bad Request\n"
     ]
    },
    {
     "ename": "TypeError",
     "evalue": "cannot unpack non-iterable NoneType object",
     "output_type": "error",
     "traceback": [
      "\u001b[0;31m---------------------------------------------------------------------------\u001b[0m",
      "\u001b[0;31mTypeError\u001b[0m                                 Traceback (most recent call last)",
      "\u001b[0;32m<ipython-input-29-16ee84a66d1e>\u001b[0m in \u001b[0;36m<module>\u001b[0;34m\u001b[0m\n\u001b[1;32m      1\u001b[0m \u001b[0;31m# 文タイプ判定API\u001b[0m\u001b[0;34m\u001b[0m\u001b[0;34m\u001b[0m\u001b[0;34m\u001b[0m\u001b[0m\n\u001b[0;32m----> 2\u001b[0;31m \u001b[0mresult\u001b[0m \u001b[0;34m=\u001b[0m \u001b[0mcotoha_api\u001b[0m\u001b[0;34m.\u001b[0m\u001b[0msentence_type\u001b[0m\u001b[0;34m(\u001b[0m\u001b[0msentence\u001b[0m\u001b[0;34m)\u001b[0m\u001b[0;34m\u001b[0m\u001b[0;34m\u001b[0m\u001b[0m\n\u001b[0m\u001b[1;32m      3\u001b[0m \u001b[0mpprint\u001b[0m\u001b[0;34m(\u001b[0m\u001b[0mresult\u001b[0m\u001b[0;34m)\u001b[0m\u001b[0;34m\u001b[0m\u001b[0;34m\u001b[0m\u001b[0m\n",
      "\u001b[0;32m<ipython-input-2-bac01209f771>\u001b[0m in \u001b[0;36msentence_type\u001b[0;34m(self, sentence)\u001b[0m\n\u001b[1;32m    111\u001b[0m             \u001b[0;34m\"sentence\"\u001b[0m\u001b[0;34m:\u001b[0m \u001b[0msentence\u001b[0m\u001b[0;34m\u001b[0m\u001b[0;34m\u001b[0m\u001b[0m\n\u001b[1;32m    112\u001b[0m         }\n\u001b[0;32m--> 113\u001b[0;31m         \u001b[0mres_body\u001b[0m\u001b[0;34m,\u001b[0m \u001b[0mstatus\u001b[0m\u001b[0;34m,\u001b[0m \u001b[0mreason\u001b[0m \u001b[0;34m=\u001b[0m \u001b[0mself\u001b[0m\u001b[0;34m.\u001b[0m\u001b[0mrequest\u001b[0m\u001b[0;34m(\u001b[0m\u001b[0murl\u001b[0m\u001b[0;34m,\u001b[0m \u001b[0mdata\u001b[0m\u001b[0;34m)\u001b[0m\u001b[0;34m\u001b[0m\u001b[0;34m\u001b[0m\u001b[0m\n\u001b[0m\u001b[1;32m    114\u001b[0m         \u001b[0;32mreturn\u001b[0m \u001b[0mres_body\u001b[0m\u001b[0;34m\u001b[0m\u001b[0;34m\u001b[0m\u001b[0m\n\u001b[1;32m    115\u001b[0m \u001b[0;34m\u001b[0m\u001b[0m\n",
      "\u001b[0;31mTypeError\u001b[0m: cannot unpack non-iterable NoneType object"
     ]
    }
   ],
   "source": [
    "# 文タイプ判定API\n",
    "result = cotoha_api.sentence_type(sentence)\n",
    "pprint(result)"
   ]
  },
  {
   "cell_type": "markdown",
   "metadata": {},
   "source": [
    "## ユーザ属性推定API"
   ]
  },
  {
   "cell_type": "code",
   "execution_count": 30,
   "metadata": {},
   "outputs": [
    {
     "name": "stdout",
     "output_type": "stream",
     "text": [
      "HTTP Error 400: Bad Request\n"
     ]
    },
    {
     "name": "stderr",
     "output_type": "stream",
     "text": [
      "Traceback (most recent call last):\n",
      "  File \"<ipython-input-2-bac01209f771>\", line 22, in request\n",
      "    with urllib.request.urlopen(req) as res:\n",
      "  File \"/opt/conda/lib/python3.7/urllib/request.py\", line 222, in urlopen\n",
      "    return opener.open(url, data, timeout)\n",
      "  File \"/opt/conda/lib/python3.7/urllib/request.py\", line 531, in open\n",
      "    response = meth(req, response)\n",
      "  File \"/opt/conda/lib/python3.7/urllib/request.py\", line 641, in http_response\n",
      "    'http', request, response, code, msg, hdrs)\n",
      "  File \"/opt/conda/lib/python3.7/urllib/request.py\", line 563, in error\n",
      "    result = self._call_chain(*args)\n",
      "  File \"/opt/conda/lib/python3.7/urllib/request.py\", line 503, in _call_chain\n",
      "    result = func(*args)\n",
      "  File \"/opt/conda/lib/python3.7/urllib/request.py\", line 755, in http_error_302\n",
      "    return self.parent.open(new, timeout=req.timeout)\n",
      "  File \"/opt/conda/lib/python3.7/urllib/request.py\", line 531, in open\n",
      "    response = meth(req, response)\n",
      "  File \"/opt/conda/lib/python3.7/urllib/request.py\", line 641, in http_response\n",
      "    'http', request, response, code, msg, hdrs)\n",
      "  File \"/opt/conda/lib/python3.7/urllib/request.py\", line 569, in error\n",
      "    return self._call_chain(*args)\n",
      "  File \"/opt/conda/lib/python3.7/urllib/request.py\", line 503, in _call_chain\n",
      "    result = func(*args)\n",
      "  File \"/opt/conda/lib/python3.7/urllib/request.py\", line 649, in http_error_default\n",
      "    raise HTTPError(req.full_url, code, msg, hdrs, fp)\n",
      "urllib.error.HTTPError: HTTP Error 400: Bad Request\n"
     ]
    },
    {
     "ename": "TypeError",
     "evalue": "cannot unpack non-iterable NoneType object",
     "output_type": "error",
     "traceback": [
      "\u001b[0;31m---------------------------------------------------------------------------\u001b[0m",
      "\u001b[0;31mTypeError\u001b[0m                                 Traceback (most recent call last)",
      "\u001b[0;32m<ipython-input-30-ba9ff328e0e8>\u001b[0m in \u001b[0;36m<module>\u001b[0;34m\u001b[0m\n\u001b[1;32m      1\u001b[0m \u001b[0;31m# ユーザ属性推定API\u001b[0m\u001b[0;34m\u001b[0m\u001b[0;34m\u001b[0m\u001b[0;34m\u001b[0m\u001b[0m\n\u001b[0;32m----> 2\u001b[0;31m \u001b[0mresult\u001b[0m \u001b[0;34m=\u001b[0m \u001b[0mcotoha_api\u001b[0m\u001b[0;34m.\u001b[0m\u001b[0muser_attribute\u001b[0m\u001b[0;34m(\u001b[0m\u001b[0msentence\u001b[0m\u001b[0;34m)\u001b[0m\u001b[0;34m\u001b[0m\u001b[0;34m\u001b[0m\u001b[0m\n\u001b[0m\u001b[1;32m      3\u001b[0m \u001b[0mpprint\u001b[0m\u001b[0;34m(\u001b[0m\u001b[0mresult\u001b[0m\u001b[0;34m)\u001b[0m\u001b[0;34m\u001b[0m\u001b[0;34m\u001b[0m\u001b[0m\n",
      "\u001b[0;32m<ipython-input-2-bac01209f771>\u001b[0m in \u001b[0;36muser_attribute\u001b[0;34m(self, document)\u001b[0m\n\u001b[1;32m    120\u001b[0m             \u001b[0;34m\"document\"\u001b[0m\u001b[0;34m:\u001b[0m \u001b[0mdocument\u001b[0m\u001b[0;34m\u001b[0m\u001b[0;34m\u001b[0m\u001b[0m\n\u001b[1;32m    121\u001b[0m         }\n\u001b[0;32m--> 122\u001b[0;31m         \u001b[0mres_body\u001b[0m\u001b[0;34m,\u001b[0m \u001b[0mstatus\u001b[0m\u001b[0;34m,\u001b[0m \u001b[0mreason\u001b[0m \u001b[0;34m=\u001b[0m \u001b[0mself\u001b[0m\u001b[0;34m.\u001b[0m\u001b[0mrequest\u001b[0m\u001b[0;34m(\u001b[0m\u001b[0murl\u001b[0m\u001b[0;34m,\u001b[0m \u001b[0mdata\u001b[0m\u001b[0;34m)\u001b[0m\u001b[0;34m\u001b[0m\u001b[0;34m\u001b[0m\u001b[0m\n\u001b[0m\u001b[1;32m    123\u001b[0m         \u001b[0;32mreturn\u001b[0m \u001b[0mres_body\u001b[0m\u001b[0;34m\u001b[0m\u001b[0;34m\u001b[0m\u001b[0m\n\u001b[1;32m    124\u001b[0m \u001b[0;34m\u001b[0m\u001b[0m\n",
      "\u001b[0;31mTypeError\u001b[0m: cannot unpack non-iterable NoneType object"
     ]
    }
   ],
   "source": [
    "# ユーザ属性推定API\n",
    "result = cotoha_api.user_attribute(sentence)\n",
    "pprint(result)"
   ]
  },
  {
   "cell_type": "markdown",
   "metadata": {},
   "source": [
    "## 感情分析"
   ]
  },
  {
   "cell_type": "code",
   "execution_count": 31,
   "metadata": {},
   "outputs": [
    {
     "name": "stdout",
     "output_type": "stream",
     "text": [
      "HTTP Error 400: Bad Request\n"
     ]
    },
    {
     "name": "stderr",
     "output_type": "stream",
     "text": [
      "Traceback (most recent call last):\n",
      "  File \"<ipython-input-2-bac01209f771>\", line 22, in request\n",
      "    with urllib.request.urlopen(req) as res:\n",
      "  File \"/opt/conda/lib/python3.7/urllib/request.py\", line 222, in urlopen\n",
      "    return opener.open(url, data, timeout)\n",
      "  File \"/opt/conda/lib/python3.7/urllib/request.py\", line 531, in open\n",
      "    response = meth(req, response)\n",
      "  File \"/opt/conda/lib/python3.7/urllib/request.py\", line 641, in http_response\n",
      "    'http', request, response, code, msg, hdrs)\n",
      "  File \"/opt/conda/lib/python3.7/urllib/request.py\", line 563, in error\n",
      "    result = self._call_chain(*args)\n",
      "  File \"/opt/conda/lib/python3.7/urllib/request.py\", line 503, in _call_chain\n",
      "    result = func(*args)\n",
      "  File \"/opt/conda/lib/python3.7/urllib/request.py\", line 755, in http_error_302\n",
      "    return self.parent.open(new, timeout=req.timeout)\n",
      "  File \"/opt/conda/lib/python3.7/urllib/request.py\", line 531, in open\n",
      "    response = meth(req, response)\n",
      "  File \"/opt/conda/lib/python3.7/urllib/request.py\", line 641, in http_response\n",
      "    'http', request, response, code, msg, hdrs)\n",
      "  File \"/opt/conda/lib/python3.7/urllib/request.py\", line 569, in error\n",
      "    return self._call_chain(*args)\n",
      "  File \"/opt/conda/lib/python3.7/urllib/request.py\", line 503, in _call_chain\n",
      "    result = func(*args)\n",
      "  File \"/opt/conda/lib/python3.7/urllib/request.py\", line 649, in http_error_default\n",
      "    raise HTTPError(req.full_url, code, msg, hdrs, fp)\n",
      "urllib.error.HTTPError: HTTP Error 400: Bad Request\n"
     ]
    },
    {
     "ename": "TypeError",
     "evalue": "cannot unpack non-iterable NoneType object",
     "output_type": "error",
     "traceback": [
      "\u001b[0;31m---------------------------------------------------------------------------\u001b[0m",
      "\u001b[0;31mTypeError\u001b[0m                                 Traceback (most recent call last)",
      "\u001b[0;32m<ipython-input-31-87dce35fd3b0>\u001b[0m in \u001b[0;36m<module>\u001b[0;34m\u001b[0m\n\u001b[1;32m      1\u001b[0m \u001b[0;31m# 感情分析\u001b[0m\u001b[0;34m\u001b[0m\u001b[0;34m\u001b[0m\u001b[0;34m\u001b[0m\u001b[0m\n\u001b[1;32m      2\u001b[0m \u001b[0msentence\u001b[0m\u001b[0;34m=\u001b[0m\u001b[0;34m\"今日は晴れた。\"\u001b[0m\u001b[0;34m\u001b[0m\u001b[0;34m\u001b[0m\u001b[0m\n\u001b[0;32m----> 3\u001b[0;31m \u001b[0mresult\u001b[0m \u001b[0;34m=\u001b[0m \u001b[0mcotoha_api\u001b[0m\u001b[0;34m.\u001b[0m\u001b[0msentiment\u001b[0m\u001b[0;34m(\u001b[0m\u001b[0msentence\u001b[0m\u001b[0;34m)\u001b[0m\u001b[0;34m\u001b[0m\u001b[0;34m\u001b[0m\u001b[0m\n\u001b[0m\u001b[1;32m      4\u001b[0m \u001b[0mpprint\u001b[0m\u001b[0;34m(\u001b[0m\u001b[0mresult\u001b[0m\u001b[0;34m)\u001b[0m\u001b[0;34m\u001b[0m\u001b[0;34m\u001b[0m\u001b[0m\n",
      "\u001b[0;32m<ipython-input-2-bac01209f771>\u001b[0m in \u001b[0;36msentiment\u001b[0;34m(self, sentence)\u001b[0m\n\u001b[1;32m    129\u001b[0m             \u001b[0;34m\"sentence\"\u001b[0m\u001b[0;34m:\u001b[0m \u001b[0msentence\u001b[0m\u001b[0;34m\u001b[0m\u001b[0;34m\u001b[0m\u001b[0m\n\u001b[1;32m    130\u001b[0m         }\n\u001b[0;32m--> 131\u001b[0;31m         \u001b[0mres_body\u001b[0m\u001b[0;34m,\u001b[0m \u001b[0mstatus\u001b[0m\u001b[0;34m,\u001b[0m \u001b[0mreason\u001b[0m \u001b[0;34m=\u001b[0m \u001b[0mself\u001b[0m\u001b[0;34m.\u001b[0m\u001b[0mrequest\u001b[0m\u001b[0;34m(\u001b[0m\u001b[0murl\u001b[0m\u001b[0;34m,\u001b[0m \u001b[0mdata\u001b[0m\u001b[0;34m)\u001b[0m\u001b[0;34m\u001b[0m\u001b[0;34m\u001b[0m\u001b[0m\n\u001b[0m\u001b[1;32m    132\u001b[0m         \u001b[0;32mreturn\u001b[0m \u001b[0mres_body\u001b[0m\u001b[0;34m\u001b[0m\u001b[0;34m\u001b[0m\u001b[0m\n\u001b[1;32m    133\u001b[0m \u001b[0;34m\u001b[0m\u001b[0m\n",
      "\u001b[0;31mTypeError\u001b[0m: cannot unpack non-iterable NoneType object"
     ]
    }
   ],
   "source": [
    "# 感情分析\n",
    "sentence=\"今日は晴れた。\"\n",
    "result = cotoha_api.sentiment(sentence)\n",
    "pprint(result)"
   ]
  },
  {
   "cell_type": "markdown",
   "metadata": {},
   "source": [
    "## 言い淀み除去"
   ]
  },
  {
   "cell_type": "code",
   "execution_count": 32,
   "metadata": {},
   "outputs": [
    {
     "name": "stdout",
     "output_type": "stream",
     "text": [
      "HTTP Error 400: Bad Request\n"
     ]
    },
    {
     "name": "stderr",
     "output_type": "stream",
     "text": [
      "Traceback (most recent call last):\n",
      "  File \"<ipython-input-2-bac01209f771>\", line 22, in request\n",
      "    with urllib.request.urlopen(req) as res:\n",
      "  File \"/opt/conda/lib/python3.7/urllib/request.py\", line 222, in urlopen\n",
      "    return opener.open(url, data, timeout)\n",
      "  File \"/opt/conda/lib/python3.7/urllib/request.py\", line 531, in open\n",
      "    response = meth(req, response)\n",
      "  File \"/opt/conda/lib/python3.7/urllib/request.py\", line 641, in http_response\n",
      "    'http', request, response, code, msg, hdrs)\n",
      "  File \"/opt/conda/lib/python3.7/urllib/request.py\", line 563, in error\n",
      "    result = self._call_chain(*args)\n",
      "  File \"/opt/conda/lib/python3.7/urllib/request.py\", line 503, in _call_chain\n",
      "    result = func(*args)\n",
      "  File \"/opt/conda/lib/python3.7/urllib/request.py\", line 755, in http_error_302\n",
      "    return self.parent.open(new, timeout=req.timeout)\n",
      "  File \"/opt/conda/lib/python3.7/urllib/request.py\", line 531, in open\n",
      "    response = meth(req, response)\n",
      "  File \"/opt/conda/lib/python3.7/urllib/request.py\", line 641, in http_response\n",
      "    'http', request, response, code, msg, hdrs)\n",
      "  File \"/opt/conda/lib/python3.7/urllib/request.py\", line 569, in error\n",
      "    return self._call_chain(*args)\n",
      "  File \"/opt/conda/lib/python3.7/urllib/request.py\", line 503, in _call_chain\n",
      "    result = func(*args)\n",
      "  File \"/opt/conda/lib/python3.7/urllib/request.py\", line 649, in http_error_default\n",
      "    raise HTTPError(req.full_url, code, msg, hdrs, fp)\n",
      "urllib.error.HTTPError: HTTP Error 400: Bad Request\n"
     ]
    },
    {
     "ename": "TypeError",
     "evalue": "cannot unpack non-iterable NoneType object",
     "output_type": "error",
     "traceback": [
      "\u001b[0;31m---------------------------------------------------------------------------\u001b[0m",
      "\u001b[0;31mTypeError\u001b[0m                                 Traceback (most recent call last)",
      "\u001b[0;32m<ipython-input-32-be0b9d06500c>\u001b[0m in \u001b[0;36m<module>\u001b[0;34m\u001b[0m\n\u001b[1;32m      1\u001b[0m \u001b[0;31m# 言い淀み除去\u001b[0m\u001b[0;34m\u001b[0m\u001b[0;34m\u001b[0m\u001b[0;34m\u001b[0m\u001b[0m\n\u001b[1;32m      2\u001b[0m \u001b[0msentence\u001b[0m \u001b[0;34m=\u001b[0m \u001b[0;34m\"えーーっと、あの、今日の打ち合わせでしたっけ。すみません、ちょっと、急用が入ってしまって。\"\u001b[0m\u001b[0;34m\u001b[0m\u001b[0;34m\u001b[0m\u001b[0m\n\u001b[0;32m----> 3\u001b[0;31m \u001b[0mresult\u001b[0m \u001b[0;34m=\u001b[0m \u001b[0mcotoha_api\u001b[0m\u001b[0;34m.\u001b[0m\u001b[0mremove_filter\u001b[0m\u001b[0;34m(\u001b[0m\u001b[0msentence\u001b[0m\u001b[0;34m)\u001b[0m\u001b[0;34m\u001b[0m\u001b[0;34m\u001b[0m\u001b[0m\n\u001b[0m\u001b[1;32m      4\u001b[0m \u001b[0mpprint\u001b[0m\u001b[0;34m(\u001b[0m\u001b[0mresult\u001b[0m\u001b[0;34m)\u001b[0m\u001b[0;34m\u001b[0m\u001b[0;34m\u001b[0m\u001b[0m\n\u001b[1;32m      5\u001b[0m \u001b[0mfixed_sentences_list\u001b[0m \u001b[0;34m=\u001b[0m \u001b[0;34m[\u001b[0m\u001b[0;34m]\u001b[0m\u001b[0;34m\u001b[0m\u001b[0;34m\u001b[0m\u001b[0m\n",
      "\u001b[0;32m<ipython-input-2-bac01209f771>\u001b[0m in \u001b[0;36mremove_filter\u001b[0;34m(self, text)\u001b[0m\n\u001b[1;32m    139\u001b[0m             \u001b[0;34m\"do_segment\"\u001b[0m\u001b[0;34m:\u001b[0m\u001b[0;32mTrue\u001b[0m\u001b[0;34m,\u001b[0m\u001b[0;34m\u001b[0m\u001b[0;34m\u001b[0m\u001b[0m\n\u001b[1;32m    140\u001b[0m         }\n\u001b[0;32m--> 141\u001b[0;31m         \u001b[0mres_body\u001b[0m\u001b[0;34m,\u001b[0m \u001b[0mstatus\u001b[0m\u001b[0;34m,\u001b[0m \u001b[0mreason\u001b[0m \u001b[0;34m=\u001b[0m \u001b[0mself\u001b[0m\u001b[0;34m.\u001b[0m\u001b[0mrequest\u001b[0m\u001b[0;34m(\u001b[0m\u001b[0murl\u001b[0m\u001b[0;34m,\u001b[0m \u001b[0mdata\u001b[0m\u001b[0;34m)\u001b[0m\u001b[0;34m\u001b[0m\u001b[0;34m\u001b[0m\u001b[0m\n\u001b[0m\u001b[1;32m    142\u001b[0m         \u001b[0;32mreturn\u001b[0m \u001b[0mres_body\u001b[0m\u001b[0;34m\u001b[0m\u001b[0;34m\u001b[0m\u001b[0m\n\u001b[1;32m    143\u001b[0m \u001b[0;34m\u001b[0m\u001b[0m\n",
      "\u001b[0;31mTypeError\u001b[0m: cannot unpack non-iterable NoneType object"
     ]
    }
   ],
   "source": [
    "# 言い淀み除去\n",
    "sentence = \"えーーっと、あの、今日の打ち合わせでしたっけ。すみません、ちょっと、急用が入ってしまって。\"\n",
    "result = cotoha_api.remove_filter(sentence)\n",
    "pprint(result)\n",
    "fixed_sentences_list = []\n",
    "for i, fixed_sentence in enumerate(result['result']):\n",
    "    fixed_sentences_list.append(result['result'][i]['fixed_sentence'])\n",
    "\n",
    "fixed_sentences=\"\"\n",
    "for fixed_sentence in fixed_sentences_list:\n",
    "    fixed_sentences+=fixed_sentence\n",
    "        \n",
    "fixed_sentences"
   ]
  },
  {
   "cell_type": "code",
   "execution_count": 33,
   "metadata": {},
   "outputs": [
    {
     "ename": "NameError",
     "evalue": "name 'fixed_sentences' is not defined",
     "output_type": "error",
     "traceback": [
      "\u001b[0;31m---------------------------------------------------------------------------\u001b[0m",
      "\u001b[0;31mNameError\u001b[0m                                 Traceback (most recent call last)",
      "\u001b[0;32m<ipython-input-33-9de478a3953b>\u001b[0m in \u001b[0;36m<module>\u001b[0;34m\u001b[0m\n\u001b[0;32m----> 1\u001b[0;31m \u001b[0mresult\u001b[0m \u001b[0;34m=\u001b[0m \u001b[0mcotoha_api\u001b[0m\u001b[0;34m.\u001b[0m\u001b[0msentiment\u001b[0m\u001b[0;34m(\u001b[0m\u001b[0mfixed_sentences\u001b[0m\u001b[0;34m)\u001b[0m\u001b[0;34m\u001b[0m\u001b[0;34m\u001b[0m\u001b[0m\n\u001b[0m\u001b[1;32m      2\u001b[0m \u001b[0mpprint\u001b[0m\u001b[0;34m(\u001b[0m\u001b[0mresult\u001b[0m\u001b[0;34m[\u001b[0m\u001b[0;34m'result'\u001b[0m\u001b[0;34m]\u001b[0m\u001b[0;34m)\u001b[0m\u001b[0;34m\u001b[0m\u001b[0;34m\u001b[0m\u001b[0m\n",
      "\u001b[0;31mNameError\u001b[0m: name 'fixed_sentences' is not defined"
     ]
    }
   ],
   "source": [
    "result = cotoha_api.sentiment(fixed_sentences)\n",
    "pprint(result['result'])"
   ]
  },
  {
   "cell_type": "markdown",
   "metadata": {},
   "source": [
    "## 要約"
   ]
  },
  {
   "cell_type": "code",
   "execution_count": 34,
   "metadata": {},
   "outputs": [
    {
     "name": "stdout",
     "output_type": "stream",
     "text": [
      "HTTP Error 400: Bad Request\n"
     ]
    },
    {
     "name": "stderr",
     "output_type": "stream",
     "text": [
      "Traceback (most recent call last):\n",
      "  File \"<ipython-input-2-bac01209f771>\", line 22, in request\n",
      "    with urllib.request.urlopen(req) as res:\n",
      "  File \"/opt/conda/lib/python3.7/urllib/request.py\", line 222, in urlopen\n",
      "    return opener.open(url, data, timeout)\n",
      "  File \"/opt/conda/lib/python3.7/urllib/request.py\", line 531, in open\n",
      "    response = meth(req, response)\n",
      "  File \"/opt/conda/lib/python3.7/urllib/request.py\", line 641, in http_response\n",
      "    'http', request, response, code, msg, hdrs)\n",
      "  File \"/opt/conda/lib/python3.7/urllib/request.py\", line 563, in error\n",
      "    result = self._call_chain(*args)\n",
      "  File \"/opt/conda/lib/python3.7/urllib/request.py\", line 503, in _call_chain\n",
      "    result = func(*args)\n",
      "  File \"/opt/conda/lib/python3.7/urllib/request.py\", line 755, in http_error_302\n",
      "    return self.parent.open(new, timeout=req.timeout)\n",
      "  File \"/opt/conda/lib/python3.7/urllib/request.py\", line 531, in open\n",
      "    response = meth(req, response)\n",
      "  File \"/opt/conda/lib/python3.7/urllib/request.py\", line 641, in http_response\n",
      "    'http', request, response, code, msg, hdrs)\n",
      "  File \"/opt/conda/lib/python3.7/urllib/request.py\", line 569, in error\n",
      "    return self._call_chain(*args)\n",
      "  File \"/opt/conda/lib/python3.7/urllib/request.py\", line 503, in _call_chain\n",
      "    result = func(*args)\n",
      "  File \"/opt/conda/lib/python3.7/urllib/request.py\", line 649, in http_error_default\n",
      "    raise HTTPError(req.full_url, code, msg, hdrs, fp)\n",
      "urllib.error.HTTPError: HTTP Error 400: Bad Request\n"
     ]
    },
    {
     "ename": "TypeError",
     "evalue": "cannot unpack non-iterable NoneType object",
     "output_type": "error",
     "traceback": [
      "\u001b[0;31m---------------------------------------------------------------------------\u001b[0m",
      "\u001b[0;31mTypeError\u001b[0m                                 Traceback (most recent call last)",
      "\u001b[0;32m<ipython-input-34-32a69b9039eb>\u001b[0m in \u001b[0;36m<module>\u001b[0;34m\u001b[0m\n\u001b[1;32m      1\u001b[0m \u001b[0;31m# 要約\u001b[0m\u001b[0;34m\u001b[0m\u001b[0;34m\u001b[0m\u001b[0;34m\u001b[0m\u001b[0m\n\u001b[1;32m      2\u001b[0m \u001b[0msentence\u001b[0m \u001b[0;34m=\u001b[0m\u001b[0;34m\"前線が太平洋上に停滞しています。一方、高気圧が千島近海にあって、北日本から東日本をゆるやかに覆っています。関東地方は、晴れ時々曇り、ところにより雨となっています。東京は、湿った空気や前線の影響により、晴れ後曇りで、夜は雨となるでしょう。\"\u001b[0m\u001b[0;34m\u001b[0m\u001b[0;34m\u001b[0m\u001b[0m\n\u001b[0;32m----> 3\u001b[0;31m \u001b[0mresult\u001b[0m \u001b[0;34m=\u001b[0m \u001b[0mcotoha_api\u001b[0m\u001b[0;34m.\u001b[0m\u001b[0msummary\u001b[0m\u001b[0;34m(\u001b[0m\u001b[0msentence\u001b[0m\u001b[0;34m,\u001b[0m \u001b[0;36m1\u001b[0m\u001b[0;34m)\u001b[0m\u001b[0;34m\u001b[0m\u001b[0;34m\u001b[0m\u001b[0m\n\u001b[0m\u001b[1;32m      4\u001b[0m \u001b[0mpprint\u001b[0m\u001b[0;34m(\u001b[0m\u001b[0mresult\u001b[0m\u001b[0;34m)\u001b[0m\u001b[0;34m\u001b[0m\u001b[0;34m\u001b[0m\u001b[0m\n",
      "\u001b[0;32m<ipython-input-2-bac01209f771>\u001b[0m in \u001b[0;36msummary\u001b[0;34m(self, document, sent_len)\u001b[0m\n\u001b[1;32m    149\u001b[0m             \u001b[0;34m\"sent_len\"\u001b[0m\u001b[0;34m:\u001b[0m\u001b[0msent_len\u001b[0m\u001b[0;34m,\u001b[0m\u001b[0;34m\u001b[0m\u001b[0;34m\u001b[0m\u001b[0m\n\u001b[1;32m    150\u001b[0m         }\n\u001b[0;32m--> 151\u001b[0;31m         \u001b[0mres_body\u001b[0m\u001b[0;34m,\u001b[0m \u001b[0mstatus\u001b[0m\u001b[0;34m,\u001b[0m \u001b[0mreason\u001b[0m \u001b[0;34m=\u001b[0m \u001b[0mself\u001b[0m\u001b[0;34m.\u001b[0m\u001b[0mrequest\u001b[0m\u001b[0;34m(\u001b[0m\u001b[0murl\u001b[0m\u001b[0;34m,\u001b[0m \u001b[0mdata\u001b[0m\u001b[0;34m)\u001b[0m\u001b[0;34m\u001b[0m\u001b[0;34m\u001b[0m\u001b[0m\n\u001b[0m\u001b[1;32m    152\u001b[0m         \u001b[0;32mreturn\u001b[0m \u001b[0mres_body\u001b[0m\u001b[0;34m\u001b[0m\u001b[0;34m\u001b[0m\u001b[0m\n",
      "\u001b[0;31mTypeError\u001b[0m: cannot unpack non-iterable NoneType object"
     ]
    }
   ],
   "source": [
    "# 要約\n",
    "sentence =\"前線が太平洋上に停滞しています。一方、高気圧が千島近海にあって、北日本から東日本をゆるやかに覆っています。関東地方は、晴れ時々曇り、ところにより雨となっています。東京は、湿った空気や前線の影響により、晴れ後曇りで、夜は雨となるでしょう。\"\n",
    "result = cotoha_api.summary(sentence, 1)\n",
    "pprint(result)"
   ]
  },
  {
   "cell_type": "markdown",
   "metadata": {},
   "source": [
    "# WordNet"
   ]
  },
  {
   "cell_type": "code",
   "execution_count": 35,
   "metadata": {},
   "outputs": [],
   "source": [
    "# ref:\n",
    "# WordNet Ja: http://compling.hss.ntu.edu.sg/wnja/\n",
    "import sys, sqlite3\n",
    "from pprint import pprint"
   ]
  },
  {
   "cell_type": "code",
   "execution_count": 36,
   "metadata": {},
   "outputs": [],
   "source": [
    "query = \"\"\"\n",
    "SELECT\n",
    "    word.wordid,\n",
    "    COUNT(word.wordid) AS COUNT,\n",
    "    word.lemma,\n",
    "    word.lang,\n",
    "    sense.synset\n",
    "FROM\n",
    "    sense\n",
    "    JOIN word ON word.wordid = sense.wordid\n",
    "WHERE\n",
    "    1 = 1\n",
    "    AND sense.synset IN(\n",
    "        SELECT \n",
    "            synset\n",
    "        FROM\n",
    "            sense\n",
    "        WHERE\n",
    "            wordid IN (\n",
    "                SELECT\n",
    "                    wordid\n",
    "                FROM \n",
    "                    word\n",
    "                WHERE \n",
    "                    1 = 1\n",
    "                    AND lemma = ?\n",
    "            )\n",
    "    )\n",
    "    AND word.lang = ?\n",
    "GROUP BY word.wordid\n",
    "ORDER BY COUNT DESC\n",
    "\"\"\""
   ]
  },
  {
   "cell_type": "code",
   "execution_count": 37,
   "metadata": {},
   "outputs": [
    {
     "ename": "ModuleNotFoundError",
     "evalue": "No module named 'emoji'",
     "output_type": "error",
     "traceback": [
      "\u001b[0;31m---------------------------------------------------------------------------\u001b[0m",
      "\u001b[0;31mModuleNotFoundError\u001b[0m                       Traceback (most recent call last)",
      "\u001b[0;32m<ipython-input-37-83758b2d4dc9>\u001b[0m in \u001b[0;36m<module>\u001b[0;34m\u001b[0m\n\u001b[0;32m----> 1\u001b[0;31m \u001b[0;32mimport\u001b[0m \u001b[0memoji\u001b[0m \u001b[0;32mas\u001b[0m \u001b[0memj\u001b[0m\u001b[0;34m\u001b[0m\u001b[0;34m\u001b[0m\u001b[0m\n\u001b[0m\u001b[1;32m      2\u001b[0m \u001b[0;32mimport\u001b[0m \u001b[0mre\u001b[0m\u001b[0;34m\u001b[0m\u001b[0;34m\u001b[0m\u001b[0m\n\u001b[1;32m      3\u001b[0m \u001b[0;34m\u001b[0m\u001b[0m\n\u001b[1;32m      4\u001b[0m \u001b[0;32mdef\u001b[0m \u001b[0mget_synonyms\u001b[0m\u001b[0;34m(\u001b[0m\u001b[0mword\u001b[0m\u001b[0;34m,\u001b[0m \u001b[0mlang\u001b[0m\u001b[0;34m=\u001b[0m\u001b[0;34m'eng'\u001b[0m\u001b[0;34m)\u001b[0m\u001b[0;34m:\u001b[0m\u001b[0;34m\u001b[0m\u001b[0;34m\u001b[0m\u001b[0m\n\u001b[1;32m      5\u001b[0m     \"\"\"\n",
      "\u001b[0;31mModuleNotFoundError\u001b[0m: No module named 'emoji'"
     ]
    }
   ],
   "source": [
    "import emoji as emj\n",
    "import re\n",
    "\n",
    "def get_synonyms(word, lang='eng'):\n",
    "    \"\"\"\n",
    "    search synonyms of the input word from wordnet japnese database\n",
    "    http://compling.hss.ntu.edu.sg/wnja/\n",
    "    \"\"\"\n",
    "    synonyms = []\n",
    "    conn = sqlite3.connect(\"./wnjpn.db\")\n",
    "    c = conn.cursor()\n",
    "    rows = c.execute(query, (word ,lang))       \n",
    "    for row in rows:\n",
    "        synonyms.append(row[2])\n",
    "    c.close()\n",
    "       \n",
    "    return synonyms\n",
    "\n",
    "def get_emoji(words, count):\n",
    "    \"\"\"\n",
    "    words: list of words you want to emojize\n",
    "    count: count of the emoji to display depending on the sentiment api score\n",
    "    \"\"\"\n",
    "    assert(type(words) is list)\n",
    "    emojis = {}\n",
    "    for word in words:\n",
    "        if re.search(r':.*:', word):\n",
    "            emoji = emj.emojize(\"{}\".format(word)*count, use_aliases=True)\n",
    "        else:\n",
    "            emoji = emj.emojize(\":{}:\".format(word)*count, use_aliases=True)\n",
    "        if not re.search(r':.*:', emoji):\n",
    "            emojis[str(word)] = emoji      \n",
    "        #else:\n",
    "            #print(\":{}: could not be emojized\".format(word))\n",
    "    return emojis"
   ]
  },
  {
   "cell_type": "code",
   "execution_count": 38,
   "metadata": {},
   "outputs": [
    {
     "ename": "OperationalError",
     "evalue": "no such table: sense",
     "output_type": "error",
     "traceback": [
      "\u001b[0;31m---------------------------------------------------------------------------\u001b[0m",
      "\u001b[0;31mOperationalError\u001b[0m                          Traceback (most recent call last)",
      "\u001b[0;32m<ipython-input-38-63fc943b31f9>\u001b[0m in \u001b[0;36m<module>\u001b[0;34m\u001b[0m\n\u001b[1;32m      3\u001b[0m \u001b[0mconn\u001b[0m \u001b[0;34m=\u001b[0m \u001b[0msqlite3\u001b[0m\u001b[0;34m.\u001b[0m\u001b[0mconnect\u001b[0m\u001b[0;34m(\u001b[0m\u001b[0;34m\"./wnjpn.db\"\u001b[0m\u001b[0;34m)\u001b[0m\u001b[0;34m\u001b[0m\u001b[0;34m\u001b[0m\u001b[0m\n\u001b[1;32m      4\u001b[0m \u001b[0mc\u001b[0m \u001b[0;34m=\u001b[0m \u001b[0mconn\u001b[0m\u001b[0;34m.\u001b[0m\u001b[0mcursor\u001b[0m\u001b[0;34m(\u001b[0m\u001b[0;34m)\u001b[0m\u001b[0;34m\u001b[0m\u001b[0;34m\u001b[0m\u001b[0m\n\u001b[0;32m----> 5\u001b[0;31m \u001b[0mrows\u001b[0m \u001b[0;34m=\u001b[0m \u001b[0mc\u001b[0m\u001b[0;34m.\u001b[0m\u001b[0mexecute\u001b[0m\u001b[0;34m(\u001b[0m\u001b[0mquery\u001b[0m\u001b[0;34m,\u001b[0m \u001b[0;34m(\u001b[0m\u001b[0mword\u001b[0m \u001b[0;34m,\u001b[0m\u001b[0;34m'eng'\u001b[0m\u001b[0;34m)\u001b[0m\u001b[0;34m)\u001b[0m\u001b[0;34m\u001b[0m\u001b[0;34m\u001b[0m\u001b[0m\n\u001b[0m\u001b[1;32m      6\u001b[0m \u001b[0;32mfor\u001b[0m \u001b[0mrow\u001b[0m \u001b[0;32min\u001b[0m \u001b[0mrows\u001b[0m\u001b[0;34m:\u001b[0m\u001b[0;34m\u001b[0m\u001b[0;34m\u001b[0m\u001b[0m\n\u001b[1;32m      7\u001b[0m     \u001b[0msynonyms\u001b[0m\u001b[0;34m.\u001b[0m\u001b[0mappend\u001b[0m\u001b[0;34m(\u001b[0m\u001b[0mrow\u001b[0m\u001b[0;34m)\u001b[0m\u001b[0;34m\u001b[0m\u001b[0;34m\u001b[0m\u001b[0m\n",
      "\u001b[0;31mOperationalError\u001b[0m: no such table: sense"
     ]
    }
   ],
   "source": [
    "word=\"サッカー\"\n",
    "synonyms = []\n",
    "conn = sqlite3.connect(\"./wnjpn.db\")\n",
    "c = conn.cursor()\n",
    "rows = c.execute(query, (word ,'eng'))       \n",
    "for row in rows:\n",
    "    synonyms.append(row)\n",
    "c.close()\n",
    "synonyms"
   ]
  },
  {
   "cell_type": "code",
   "execution_count": 39,
   "metadata": {},
   "outputs": [
    {
     "ename": "NameError",
     "evalue": "name 'get_synonyms' is not defined",
     "output_type": "error",
     "traceback": [
      "\u001b[0;31m---------------------------------------------------------------------------\u001b[0m",
      "\u001b[0;31mNameError\u001b[0m                                 Traceback (most recent call last)",
      "\u001b[0;32m<ipython-input-39-ced7fe0b0538>\u001b[0m in \u001b[0;36m<module>\u001b[0;34m\u001b[0m\n\u001b[0;32m----> 1\u001b[0;31m \u001b[0msynonyms\u001b[0m \u001b[0;34m=\u001b[0m \u001b[0mget_synonyms\u001b[0m\u001b[0;34m(\u001b[0m\u001b[0mword\u001b[0m\u001b[0;34m)\u001b[0m\u001b[0;34m\u001b[0m\u001b[0;34m\u001b[0m\u001b[0m\n\u001b[0m\u001b[1;32m      2\u001b[0m \u001b[0mprint\u001b[0m\u001b[0;34m(\u001b[0m\u001b[0msynonyms\u001b[0m\u001b[0;34m)\u001b[0m\u001b[0;34m\u001b[0m\u001b[0;34m\u001b[0m\u001b[0m\n\u001b[1;32m      3\u001b[0m \u001b[0memojis\u001b[0m \u001b[0;34m=\u001b[0m \u001b[0mget_emoji\u001b[0m\u001b[0;34m(\u001b[0m\u001b[0msynonyms\u001b[0m\u001b[0;34m,\u001b[0m \u001b[0;36m1\u001b[0m\u001b[0;34m)\u001b[0m\u001b[0;34m\u001b[0m\u001b[0;34m\u001b[0m\u001b[0m\n\u001b[1;32m      4\u001b[0m \u001b[0memojis\u001b[0m\u001b[0;34m\u001b[0m\u001b[0;34m\u001b[0m\u001b[0m\n",
      "\u001b[0;31mNameError\u001b[0m: name 'get_synonyms' is not defined"
     ]
    }
   ],
   "source": [
    "synonyms = get_synonyms(word)\n",
    "print(synonyms)\n",
    "emojis = get_emoji(synonyms, 1)\n",
    "emojis"
   ]
  },
  {
   "cell_type": "markdown",
   "metadata": {},
   "source": [
    "# Get synonyms and emoji"
   ]
  },
  {
   "cell_type": "code",
   "execution_count": 40,
   "metadata": {
    "scrolled": false
   },
   "outputs": [
    {
     "name": "stdout",
     "output_type": "stream",
     "text": [
      "HTTP Error 400: Bad Request\n"
     ]
    },
    {
     "name": "stderr",
     "output_type": "stream",
     "text": [
      "Traceback (most recent call last):\n",
      "  File \"<ipython-input-2-bac01209f771>\", line 22, in request\n",
      "    with urllib.request.urlopen(req) as res:\n",
      "  File \"/opt/conda/lib/python3.7/urllib/request.py\", line 222, in urlopen\n",
      "    return opener.open(url, data, timeout)\n",
      "  File \"/opt/conda/lib/python3.7/urllib/request.py\", line 531, in open\n",
      "    response = meth(req, response)\n",
      "  File \"/opt/conda/lib/python3.7/urllib/request.py\", line 641, in http_response\n",
      "    'http', request, response, code, msg, hdrs)\n",
      "  File \"/opt/conda/lib/python3.7/urllib/request.py\", line 563, in error\n",
      "    result = self._call_chain(*args)\n",
      "  File \"/opt/conda/lib/python3.7/urllib/request.py\", line 503, in _call_chain\n",
      "    result = func(*args)\n",
      "  File \"/opt/conda/lib/python3.7/urllib/request.py\", line 755, in http_error_302\n",
      "    return self.parent.open(new, timeout=req.timeout)\n",
      "  File \"/opt/conda/lib/python3.7/urllib/request.py\", line 531, in open\n",
      "    response = meth(req, response)\n",
      "  File \"/opt/conda/lib/python3.7/urllib/request.py\", line 641, in http_response\n",
      "    'http', request, response, code, msg, hdrs)\n",
      "  File \"/opt/conda/lib/python3.7/urllib/request.py\", line 569, in error\n",
      "    return self._call_chain(*args)\n",
      "  File \"/opt/conda/lib/python3.7/urllib/request.py\", line 503, in _call_chain\n",
      "    result = func(*args)\n",
      "  File \"/opt/conda/lib/python3.7/urllib/request.py\", line 649, in http_error_default\n",
      "    raise HTTPError(req.full_url, code, msg, hdrs, fp)\n",
      "urllib.error.HTTPError: HTTP Error 400: Bad Request\n"
     ]
    },
    {
     "ename": "TypeError",
     "evalue": "cannot unpack non-iterable NoneType object",
     "output_type": "error",
     "traceback": [
      "\u001b[0;31m---------------------------------------------------------------------------\u001b[0m",
      "\u001b[0;31mTypeError\u001b[0m                                 Traceback (most recent call last)",
      "\u001b[0;32m<ipython-input-40-14743ed538aa>\u001b[0m in \u001b[0;36m<module>\u001b[0;34m\u001b[0m\n\u001b[1;32m      1\u001b[0m \u001b[0;31m# 構文解析\u001b[0m\u001b[0;34m\u001b[0m\u001b[0;34m\u001b[0m\u001b[0;34m\u001b[0m\u001b[0m\n\u001b[1;32m      2\u001b[0m \u001b[0msentence\u001b[0m \u001b[0;34m=\u001b[0m \u001b[0;34m\"集団感染が発生したクルーズ船「ダイヤモンド・プリンセス」を下船した乗客２３人に健康観察期間中のウイルス検査を実施していなかったミスについて、与野党からは批判の声が上がった。\"\u001b[0m\u001b[0;34m\u001b[0m\u001b[0;34m\u001b[0m\u001b[0m\n\u001b[0;32m----> 3\u001b[0;31m \u001b[0mresult\u001b[0m \u001b[0;34m=\u001b[0m \u001b[0mcotoha_api\u001b[0m\u001b[0;34m.\u001b[0m\u001b[0mparse\u001b[0m\u001b[0;34m(\u001b[0m\u001b[0msentence\u001b[0m\u001b[0;34m)\u001b[0m\u001b[0;34m\u001b[0m\u001b[0;34m\u001b[0m\u001b[0m\n\u001b[0m",
      "\u001b[0;32m<ipython-input-2-bac01209f771>\u001b[0m in \u001b[0;36mparse\u001b[0;34m(self, sentence)\u001b[0m\n\u001b[1;32m     62\u001b[0m             \u001b[0;34m\"sentence\"\u001b[0m\u001b[0;34m:\u001b[0m \u001b[0msentence\u001b[0m\u001b[0;34m\u001b[0m\u001b[0;34m\u001b[0m\u001b[0m\n\u001b[1;32m     63\u001b[0m         }\n\u001b[0;32m---> 64\u001b[0;31m         \u001b[0mres_body\u001b[0m\u001b[0;34m,\u001b[0m \u001b[0mstatus\u001b[0m\u001b[0;34m,\u001b[0m \u001b[0mreason\u001b[0m \u001b[0;34m=\u001b[0m \u001b[0mself\u001b[0m\u001b[0;34m.\u001b[0m\u001b[0mrequest\u001b[0m\u001b[0;34m(\u001b[0m\u001b[0murl\u001b[0m\u001b[0;34m,\u001b[0m \u001b[0mdata\u001b[0m\u001b[0;34m)\u001b[0m\u001b[0;34m\u001b[0m\u001b[0;34m\u001b[0m\u001b[0m\n\u001b[0m\u001b[1;32m     65\u001b[0m         \u001b[0;32mreturn\u001b[0m \u001b[0mres_body\u001b[0m\u001b[0;34m\u001b[0m\u001b[0;34m\u001b[0m\u001b[0m\n\u001b[1;32m     66\u001b[0m \u001b[0;34m\u001b[0m\u001b[0m\n",
      "\u001b[0;31mTypeError\u001b[0m: cannot unpack non-iterable NoneType object"
     ]
    }
   ],
   "source": [
    "# 構文解析\n",
    "sentence = \"集団感染が発生したクルーズ船「ダイヤモンド・プリンセス」を下船した乗客２３人に健康観察期間中のウイルス検査を実施していなかったミスについて、与野党からは批判の声が上がった。\"\n",
    "result = cotoha_api.parse(sentence)"
   ]
  },
  {
   "cell_type": "code",
   "execution_count": 41,
   "metadata": {},
   "outputs": [
    {
     "ename": "NameError",
     "evalue": "name 'result' is not defined",
     "output_type": "error",
     "traceback": [
      "\u001b[0;31m---------------------------------------------------------------------------\u001b[0m",
      "\u001b[0;31mNameError\u001b[0m                                 Traceback (most recent call last)",
      "\u001b[0;32m<ipython-input-41-de4bb6ee5e24>\u001b[0m in \u001b[0;36m<module>\u001b[0;34m\u001b[0m\n\u001b[1;32m      3\u001b[0m \u001b[0memojis\u001b[0m \u001b[0;34m=\u001b[0m \u001b[0;34m{\u001b[0m\u001b[0;34m}\u001b[0m\u001b[0;34m\u001b[0m\u001b[0;34m\u001b[0m\u001b[0m\n\u001b[1;32m      4\u001b[0m \u001b[0memojis_summary\u001b[0m \u001b[0;34m=\u001b[0m \u001b[0;34m{\u001b[0m\u001b[0;34m}\u001b[0m\u001b[0;34m\u001b[0m\u001b[0;34m\u001b[0m\u001b[0m\n\u001b[0;32m----> 5\u001b[0;31m \u001b[0;32mfor\u001b[0m \u001b[0mid\u001b[0m \u001b[0;32min\u001b[0m \u001b[0mrange\u001b[0m\u001b[0;34m(\u001b[0m\u001b[0mlen\u001b[0m\u001b[0;34m(\u001b[0m\u001b[0mresult\u001b[0m\u001b[0;34m[\u001b[0m\u001b[0;34m'result'\u001b[0m\u001b[0;34m]\u001b[0m\u001b[0;34m)\u001b[0m\u001b[0;34m)\u001b[0m\u001b[0;34m:\u001b[0m\u001b[0;34m\u001b[0m\u001b[0;34m\u001b[0m\u001b[0m\n\u001b[0m\u001b[1;32m      6\u001b[0m     \u001b[0;32mfor\u001b[0m \u001b[0mword_class\u001b[0m \u001b[0;32min\u001b[0m \u001b[0mword_classes\u001b[0m\u001b[0;34m:\u001b[0m\u001b[0;34m\u001b[0m\u001b[0;34m\u001b[0m\u001b[0m\n\u001b[1;32m      7\u001b[0m         \u001b[0;32mif\u001b[0m \u001b[0mresult\u001b[0m\u001b[0;34m[\u001b[0m\u001b[0;34m'result'\u001b[0m\u001b[0;34m]\u001b[0m\u001b[0;34m[\u001b[0m\u001b[0mid\u001b[0m\u001b[0;34m]\u001b[0m\u001b[0;34m[\u001b[0m\u001b[0;34m'tokens'\u001b[0m\u001b[0;34m]\u001b[0m\u001b[0;34m[\u001b[0m\u001b[0;36m0\u001b[0m\u001b[0;34m]\u001b[0m\u001b[0;34m[\u001b[0m\u001b[0;34m'pos'\u001b[0m\u001b[0;34m]\u001b[0m \u001b[0;34m==\u001b[0m \u001b[0mword_class\u001b[0m\u001b[0;34m:\u001b[0m\u001b[0;34m\u001b[0m\u001b[0;34m\u001b[0m\u001b[0m\n",
      "\u001b[0;31mNameError\u001b[0m: name 'result' is not defined"
     ]
    }
   ],
   "source": [
    "word_classes=[\"名詞\", \"動詞語幹\"]\n",
    "synonyms = {}\n",
    "emojis = {}\n",
    "emojis_summary = {}\n",
    "for id in range(len(result['result'])):\n",
    "    for word_class in word_classes:   \n",
    "        if result['result'][id]['tokens'][0]['pos'] == word_class:\n",
    "            word = result['result'][id]['tokens'][0]['lemma']\n",
    "            synonyms[str(word)] = get_synonyms(word, lang='eng')\n",
    "\n",
    "for key, synonym_list in synonyms.items():\n",
    "    if len(synonym_list) > 0:\n",
    "        emojis = get_emoji(synonym_list, 1)\n",
    "        if len(emojis) > 0:\n",
    "            emojis_summary[str(key)] = emojis\n",
    "            print(key, emojis)\n",
    "\n",
    "print(\"\\n*** emoji summary ***\")\n",
    "if len(emojis_summary) > 0:\n",
    "    for word, emoji_dict in emojis_summary.items():\n",
    "        emojis = \"\"\n",
    "        emoji_words = \"\"\n",
    "        for emoji_word, emoji in emoji_dict.items():\n",
    "            emoji_words += \" \" + emoji_word\n",
    "            emojis += emoji + \" \"\n",
    "        print(\"{:5}{}{}\".format(emojis, word, emoji_words))"
   ]
  },
  {
   "cell_type": "markdown",
   "metadata": {},
   "source": [
    "# Main Test"
   ]
  },
  {
   "cell_type": "code",
   "execution_count": 42,
   "metadata": {},
   "outputs": [],
   "source": [
    "#sentence = \"えーーっと、あの、今日のパーティ楽しみにしていたのですが。すみません、ちょっと、急用が入ってしまって。でも、また今後誘ってください。楽しみにしています。\"\n",
    "sentence = \"政府は23日、新型コロナウイルス感染症対策本部の会議を首相官邸で開き、感染経路が明らかでない患者が国内で増えていることを踏まえ、対応を協議した。\"\n",
    "# http://hukumusume.com/douwa/pc/jap/08/01.htm\n",
    "sentence1= \"\"\"\n",
    "むかしむかし、あるところに、おじいさんとおばあさんが住んでいました。\n",
    "おじいさんは山へしばかりに、おばあさんは川へせんたくに行きました。\n",
    "おばあさんが川でせんたくをしていると、ドンブラコ、ドンブラコと、大きな桃が流れてきました。\n",
    "「おや、これは良いおみやげになるわ」\n",
    "おばあさんは大きな桃をひろいあげて、家に持ち帰りました。\n",
    "そして、おじいさんとおばあさんが桃を食べようと桃を切ってみると、なんと中から元気の良い男の赤ちゃんが飛び出してきました。\n",
    "「これはきっと、神さまがくださったにちがいない」\n",
    "子どものいなかったおじいさんとおばあさんは、大喜びです。\n",
    "桃から生まれた男の子を、おじいさんとおばあさんは桃太郎と名付けました。\n",
    "\"\"\"\n",
    "sentence2 = \"\"\"\n",
    "そしてある日、桃太郎が言いました。\n",
    "「ぼく、鬼ヶ島(おにがしま)へ行って、わるい鬼を退治します」\n",
    "おばあさんにきび団子を作ってもらうと、鬼ヶ島へ出かけました。\n",
    "旅の途中で、イヌに出会いました。\n",
    "「桃太郎さん、どこへ行くのですか？」\n",
    "「鬼ヶ島へ、鬼退治に行くんだ」\n",
    "「それでは、お腰に付けたきび団子を１つ下さいな。おともしますよ」\n",
    "イヌはきび団子をもらい、桃太郎のおともになりました。\n",
    "そして、こんどはサルに出会いました。\n",
    "「桃太郎さん、どこへ行くのですか？」\n",
    "「鬼ヶ島へ、鬼退治に行くんだ」\\\n",
    "「それでは、お腰に付けたきび団子を１つ下さいな。おともしますよ」\n",
    "そしてこんどは、キジに出会いました。\n",
    "「桃太郎さん、どこへ行くのですか？」\n",
    "「鬼ヶ島へ、鬼退治に行くんだ」\n",
    "「それでは、お腰に付けたきび団子を１つ下さいな。おともしますよ」\n",
    "こうして、イヌ、サル、キジの仲間を手に入れた桃太郎は、ついに鬼ヶ島へやってきました。\n",
    "\"\"\"\n",
    "sentence3 = \"\"\"\n",
    "鬼ヶ島では、鬼たちが近くの村からぬすんだ宝物やごちそうをならべて、酒盛りの真っ最中です。\n",
    "「みんな、ぬかるなよ。それ、かかれ！」\n",
    "イヌは鬼のおしりにかみつき、サルは鬼のせなかをひっかき、キジはくちばしで鬼の目をつつきました。\n",
    "そして桃太郎も、刀をふり回して大あばれです。\n",
    "とうとう鬼の親分が、「まいったぁ、まいったぁ。こうさんだ、助けてくれぇ」と、手をついてあやまりました。\n",
    "桃太郎とイヌとサルとキジは、鬼から取り上げた宝物をくるまにつんで、元気よく家に帰りました。\n",
    "おじいさんとおばあさんは、桃太郎の無事な姿を見て大喜びです。\n",
    "そして三人は、宝物のおかげでしあわせにくらしましたとさ。\n",
    "\"\"\"\n"
   ]
  },
  {
   "cell_type": "code",
   "execution_count": 43,
   "metadata": {
    "code_folding": []
   },
   "outputs": [
    {
     "ename": "ModuleNotFoundError",
     "evalue": "No module named 'wordcloud'",
     "output_type": "error",
     "traceback": [
      "\u001b[0;31m---------------------------------------------------------------------------\u001b[0m",
      "\u001b[0;31mModuleNotFoundError\u001b[0m                       Traceback (most recent call last)",
      "\u001b[0;32m<ipython-input-43-29ab21980a4b>\u001b[0m in \u001b[0;36m<module>\u001b[0;34m\u001b[0m\n\u001b[0;32m----> 1\u001b[0;31m \u001b[0;32mfrom\u001b[0m \u001b[0mwordcloud\u001b[0m \u001b[0;32mimport\u001b[0m \u001b[0mWordCloud\u001b[0m\u001b[0;34m\u001b[0m\u001b[0;34m\u001b[0m\u001b[0m\n\u001b[0m\u001b[1;32m      2\u001b[0m \u001b[0;32mimport\u001b[0m \u001b[0mmatplotlib\u001b[0m\u001b[0;34m.\u001b[0m\u001b[0mpyplot\u001b[0m \u001b[0;32mas\u001b[0m \u001b[0mplt\u001b[0m\u001b[0;34m\u001b[0m\u001b[0;34m\u001b[0m\u001b[0m\n\u001b[1;32m      3\u001b[0m \u001b[0;32mimport\u001b[0m \u001b[0mnumpy\u001b[0m \u001b[0;32mas\u001b[0m \u001b[0mnp\u001b[0m\u001b[0;34m\u001b[0m\u001b[0;34m\u001b[0m\u001b[0m\n\u001b[1;32m      4\u001b[0m \u001b[0;32mfrom\u001b[0m \u001b[0mpprint\u001b[0m \u001b[0;32mimport\u001b[0m \u001b[0mpprint\u001b[0m\u001b[0;34m\u001b[0m\u001b[0;34m\u001b[0m\u001b[0m\n\u001b[1;32m      5\u001b[0m \u001b[0;34m\u001b[0m\u001b[0m\n",
      "\u001b[0;31mModuleNotFoundError\u001b[0m: No module named 'wordcloud'"
     ]
    }
   ],
   "source": [
    "from wordcloud import WordCloud\n",
    "import matplotlib.pyplot as plt\n",
    "import numpy as np\n",
    "from pprint import pprint\n",
    "\n",
    "emotional_label = {'Positive': ':thumbsup:',\n",
    "                   'Negative': ':thumbsdown:',\n",
    "                   'Neutral': ':hand:'}\n",
    "emotion_label = {'喜ぶ': ':smile:',\n",
    "                 '怒る': ':rage:',\n",
    "                 '悲しい': ':cry:',\n",
    "                 '不安': ':worried:',\n",
    "                 '恥ずかしい': ':flushed:',\n",
    "                 '好ましい': ':expressionless:',\n",
    "                 '嫌'': ': ':stuck_out_tongue_closed_eyes:',\n",
    "                 '興奮': ':laughing:',\n",
    "                 '安心': ':relieved:',\n",
    "                 '驚く': ':astonished:',\n",
    "                 '切ない': ':disappointed:',\n",
    "                 '願望': ':wink:',\n",
    "                 'P': ':smile:',\n",
    "                 'N': ':pensive:',\n",
    "                 'PN': ':neutral_face:'}\n",
    "\n",
    "\n",
    "def preprocess(sentence):\n",
    "    result = cotoha_api.remove_filter(sentence)\n",
    "    fixed_sentences_list = []\n",
    "    for i, fixed_sentence in enumerate(result['result']):\n",
    "        fixed_sentences_list.append(result['result'][i]['fixed_sentence'])\n",
    "    return fixed_sentences_list\n",
    "\n",
    "\n",
    "def get_words_by_class(parsed_result, word_classes):\n",
    "    words = []\n",
    "    for id in range(len(parsed_result['result'])):\n",
    "        for word_class in word_classes:\n",
    "            if parsed_result['result'][id]['tokens'][0]['pos'] == word_class:\n",
    "                word = parsed_result['result'][id]['tokens'][0]['lemma']\n",
    "                words.append(word)\n",
    "    return words\n",
    "\n",
    "\n",
    "def emotion_score(sentence, verbose=False):\n",
    "    # initialize emotion lable: 'PN' means Neutral(Positive-Negative)????\n",
    "    emotion = 'PN'\n",
    "    emotions = {}\n",
    "    result = cotoha_api.sentiment(sentence)\n",
    "    if verbose:\n",
    "        pprint(result)\n",
    "\n",
    "    sentiment = result['result']['sentiment']\n",
    "    score = result['result']['score']\n",
    "    emotional_phrase = result['result']['emotional_phrase']\n",
    "\n",
    "    # emotinal score: 5 levels (low -> high : 1 to 5)\n",
    "    # score: 0 < 0.2 < 0.4 < 0.6 < 0.8 < 1.0 -> level 1, 2, 3, 4, 5\n",
    "    emotional = get_emoji([emotional_label[sentiment]], int(score//0.2 + 1))\n",
    "    # create emoji counter(0) dictionary \n",
    "    emoji_counter = {key: 0 for key in emotion_label.keys()}\n",
    "    \n",
    "    if emotional_phrase:\n",
    "        for i in range(len(result['result']['emotional_phrase'])):\n",
    "            emotion = result['result']['emotional_phrase'][i]['emotion']\n",
    "            emoji_counter[str(emotion)] += 1\n",
    "        for emotion, count in emoji_counter.items():\n",
    "            if count > 0:\n",
    "                emoji_text = [emotion_label[emotion]]\n",
    "                emotions[str(emotion)] = get_emoji(emoji_text, count)\n",
    "\n",
    "    return emotional, sentiment, score, emotions\n",
    "\n",
    "\n",
    "def show_emoji_summary(words):\n",
    "    synonyms = {}\n",
    "    emojis_summary = {}\n",
    "\n",
    "    for word in words:\n",
    "        synonyms[str(word)] = get_synonyms(word, lang='eng')\n",
    "\n",
    "    for key, synonym_list in synonyms.items():\n",
    "        if len(synonym_list) > 0:\n",
    "            emojis = get_emoji(synonym_list, 1)\n",
    "            if len(emojis) > 0:\n",
    "                emojis_summary[str(key)] = emojis\n",
    "    return emojis_summary\n",
    "\n",
    "\n",
    "def show_named_entry(words):\n",
    "    named_entry = []\n",
    "    for word in words:\n",
    "        result = cotoha_api.named_entry(word)\n",
    "        if len(result['result']) > 0:\n",
    "            named_entry.append(result['result'][0])\n",
    "    return named_entry\n",
    "\n",
    "\n",
    "def get_wordcrowd_mask(text):\n",
    "    \"\"\"ref:\n",
    "    https://amueller.github.io/word_cloud/auto_examples/single_word.html\n",
    "    \"\"\"\n",
    "    font_path = './ipagp.ttf'\n",
    "    x, y = np.ogrid[:300, :300]\n",
    "    mask = (x - 150) ** 2 + (y - 150) ** 2 > 130 ** 2\n",
    "    mask = 255 * mask.astype(int)\n",
    "    wc = WordCloud(font_path=font_path, random_state=1, \n",
    "                   mask=mask, background_color=\"white\").generate(text)\n",
    "    return wc"
   ]
  },
  {
   "cell_type": "code",
   "execution_count": 44,
   "metadata": {
    "scrolled": false
   },
   "outputs": [
    {
     "ename": "HTTPError",
     "evalue": "HTTP Error 401: Unauthorized",
     "output_type": "error",
     "traceback": [
      "\u001b[0;31m---------------------------------------------------------------------------\u001b[0m",
      "\u001b[0;31mHTTPError\u001b[0m                                 Traceback (most recent call last)",
      "\u001b[0;32m<ipython-input-44-fc7cd996af01>\u001b[0m in \u001b[0;36m<module>\u001b[0;34m\u001b[0m\n\u001b[1;32m     13\u001b[0m \u001b[0;34m\u001b[0m\u001b[0m\n\u001b[1;32m     14\u001b[0m cotoha_api = CotohaApi(CLIENT_ID, CLIENT_SECRET,\n\u001b[0;32m---> 15\u001b[0;31m                        DEVELOPER_API_BASE_URL, ACCESS_TOKEN_PUBLISH_URL)\n\u001b[0m\u001b[1;32m     16\u001b[0m \u001b[0;34m\u001b[0m\u001b[0m\n\u001b[1;32m     17\u001b[0m \u001b[0mword_classes\u001b[0m \u001b[0;34m=\u001b[0m \u001b[0;34m[\u001b[0m\u001b[0;34m\"名詞\"\u001b[0m\u001b[0;34m,\u001b[0m \u001b[0;34m\"動詞語幹\"\u001b[0m\u001b[0;34m]\u001b[0m\u001b[0;34m\u001b[0m\u001b[0;34m\u001b[0m\u001b[0m\n",
      "\u001b[0;32m<ipython-input-2-bac01209f771>\u001b[0m in \u001b[0;36m__init__\u001b[0;34m(self, client_id, client_secret, developer_api_base_url, access_token_publish_url)\u001b[0m\n\u001b[1;32m     11\u001b[0m         \u001b[0mself\u001b[0m\u001b[0;34m.\u001b[0m\u001b[0maccess_token_publish_url\u001b[0m \u001b[0;34m=\u001b[0m \u001b[0maccess_token_publish_url\u001b[0m\u001b[0;34m\u001b[0m\u001b[0;34m\u001b[0m\u001b[0m\n\u001b[1;32m     12\u001b[0m         \u001b[0mself\u001b[0m\u001b[0;34m.\u001b[0m\u001b[0mrequest_count\u001b[0m \u001b[0;34m=\u001b[0m \u001b[0;36m0\u001b[0m\u001b[0;34m\u001b[0m\u001b[0;34m\u001b[0m\u001b[0m\n\u001b[0;32m---> 13\u001b[0;31m         \u001b[0mself\u001b[0m\u001b[0;34m.\u001b[0m\u001b[0mget_access_token\u001b[0m\u001b[0;34m(\u001b[0m\u001b[0;34m)\u001b[0m\u001b[0;34m\u001b[0m\u001b[0;34m\u001b[0m\u001b[0m\n\u001b[0m\u001b[1;32m     14\u001b[0m \u001b[0;34m\u001b[0m\u001b[0m\n\u001b[1;32m     15\u001b[0m     \u001b[0;32mdef\u001b[0m \u001b[0mrequest\u001b[0m\u001b[0;34m(\u001b[0m\u001b[0mself\u001b[0m\u001b[0;34m,\u001b[0m \u001b[0murl\u001b[0m\u001b[0;34m,\u001b[0m \u001b[0mdata\u001b[0m\u001b[0;34m)\u001b[0m\u001b[0;34m:\u001b[0m\u001b[0;34m\u001b[0m\u001b[0;34m\u001b[0m\u001b[0m\n",
      "\u001b[0;32m<ipython-input-2-bac01209f771>\u001b[0m in \u001b[0;36mget_access_token\u001b[0;34m(self)\u001b[0m\n\u001b[1;32m     51\u001b[0m         }\n\u001b[1;32m     52\u001b[0m         \u001b[0mreq\u001b[0m \u001b[0;34m=\u001b[0m \u001b[0murllib\u001b[0m\u001b[0;34m.\u001b[0m\u001b[0mrequest\u001b[0m\u001b[0;34m.\u001b[0m\u001b[0mRequest\u001b[0m\u001b[0;34m(\u001b[0m\u001b[0murl\u001b[0m\u001b[0;34m,\u001b[0m \u001b[0mjson\u001b[0m\u001b[0;34m.\u001b[0m\u001b[0mdumps\u001b[0m\u001b[0;34m(\u001b[0m\u001b[0mdata\u001b[0m\u001b[0;34m)\u001b[0m\u001b[0;34m.\u001b[0m\u001b[0mencode\u001b[0m\u001b[0;34m(\u001b[0m\u001b[0;34m)\u001b[0m\u001b[0;34m,\u001b[0m \u001b[0mheaders\u001b[0m\u001b[0;34m)\u001b[0m\u001b[0;34m\u001b[0m\u001b[0;34m\u001b[0m\u001b[0m\n\u001b[0;32m---> 53\u001b[0;31m         \u001b[0;32mwith\u001b[0m \u001b[0murllib\u001b[0m\u001b[0;34m.\u001b[0m\u001b[0mrequest\u001b[0m\u001b[0;34m.\u001b[0m\u001b[0murlopen\u001b[0m\u001b[0;34m(\u001b[0m\u001b[0mreq\u001b[0m\u001b[0;34m)\u001b[0m \u001b[0;32mas\u001b[0m \u001b[0mres\u001b[0m\u001b[0;34m:\u001b[0m\u001b[0;34m\u001b[0m\u001b[0;34m\u001b[0m\u001b[0m\n\u001b[0m\u001b[1;32m     54\u001b[0m                 \u001b[0mres_body\u001b[0m \u001b[0;34m=\u001b[0m \u001b[0mjson\u001b[0m\u001b[0;34m.\u001b[0m\u001b[0mloads\u001b[0m\u001b[0;34m(\u001b[0m\u001b[0mres\u001b[0m\u001b[0;34m.\u001b[0m\u001b[0mread\u001b[0m\u001b[0;34m(\u001b[0m\u001b[0;34m)\u001b[0m\u001b[0;34m)\u001b[0m\u001b[0;34m\u001b[0m\u001b[0;34m\u001b[0m\u001b[0m\n\u001b[1;32m     55\u001b[0m         \u001b[0mself\u001b[0m\u001b[0;34m.\u001b[0m\u001b[0mrequest_count\u001b[0m\u001b[0;34m+=\u001b[0m\u001b[0;36m1\u001b[0m\u001b[0;34m\u001b[0m\u001b[0;34m\u001b[0m\u001b[0m\n",
      "\u001b[0;32m/opt/conda/lib/python3.7/urllib/request.py\u001b[0m in \u001b[0;36murlopen\u001b[0;34m(url, data, timeout, cafile, capath, cadefault, context)\u001b[0m\n\u001b[1;32m    220\u001b[0m     \u001b[0;32melse\u001b[0m\u001b[0;34m:\u001b[0m\u001b[0;34m\u001b[0m\u001b[0;34m\u001b[0m\u001b[0m\n\u001b[1;32m    221\u001b[0m         \u001b[0mopener\u001b[0m \u001b[0;34m=\u001b[0m \u001b[0m_opener\u001b[0m\u001b[0;34m\u001b[0m\u001b[0;34m\u001b[0m\u001b[0m\n\u001b[0;32m--> 222\u001b[0;31m     \u001b[0;32mreturn\u001b[0m \u001b[0mopener\u001b[0m\u001b[0;34m.\u001b[0m\u001b[0mopen\u001b[0m\u001b[0;34m(\u001b[0m\u001b[0murl\u001b[0m\u001b[0;34m,\u001b[0m \u001b[0mdata\u001b[0m\u001b[0;34m,\u001b[0m \u001b[0mtimeout\u001b[0m\u001b[0;34m)\u001b[0m\u001b[0;34m\u001b[0m\u001b[0;34m\u001b[0m\u001b[0m\n\u001b[0m\u001b[1;32m    223\u001b[0m \u001b[0;34m\u001b[0m\u001b[0m\n\u001b[1;32m    224\u001b[0m \u001b[0;32mdef\u001b[0m \u001b[0minstall_opener\u001b[0m\u001b[0;34m(\u001b[0m\u001b[0mopener\u001b[0m\u001b[0;34m)\u001b[0m\u001b[0;34m:\u001b[0m\u001b[0;34m\u001b[0m\u001b[0;34m\u001b[0m\u001b[0m\n",
      "\u001b[0;32m/opt/conda/lib/python3.7/urllib/request.py\u001b[0m in \u001b[0;36mopen\u001b[0;34m(self, fullurl, data, timeout)\u001b[0m\n\u001b[1;32m    529\u001b[0m         \u001b[0;32mfor\u001b[0m \u001b[0mprocessor\u001b[0m \u001b[0;32min\u001b[0m \u001b[0mself\u001b[0m\u001b[0;34m.\u001b[0m\u001b[0mprocess_response\u001b[0m\u001b[0;34m.\u001b[0m\u001b[0mget\u001b[0m\u001b[0;34m(\u001b[0m\u001b[0mprotocol\u001b[0m\u001b[0;34m,\u001b[0m \u001b[0;34m[\u001b[0m\u001b[0;34m]\u001b[0m\u001b[0;34m)\u001b[0m\u001b[0;34m:\u001b[0m\u001b[0;34m\u001b[0m\u001b[0;34m\u001b[0m\u001b[0m\n\u001b[1;32m    530\u001b[0m             \u001b[0mmeth\u001b[0m \u001b[0;34m=\u001b[0m \u001b[0mgetattr\u001b[0m\u001b[0;34m(\u001b[0m\u001b[0mprocessor\u001b[0m\u001b[0;34m,\u001b[0m \u001b[0mmeth_name\u001b[0m\u001b[0;34m)\u001b[0m\u001b[0;34m\u001b[0m\u001b[0;34m\u001b[0m\u001b[0m\n\u001b[0;32m--> 531\u001b[0;31m             \u001b[0mresponse\u001b[0m \u001b[0;34m=\u001b[0m \u001b[0mmeth\u001b[0m\u001b[0;34m(\u001b[0m\u001b[0mreq\u001b[0m\u001b[0;34m,\u001b[0m \u001b[0mresponse\u001b[0m\u001b[0;34m)\u001b[0m\u001b[0;34m\u001b[0m\u001b[0;34m\u001b[0m\u001b[0m\n\u001b[0m\u001b[1;32m    532\u001b[0m \u001b[0;34m\u001b[0m\u001b[0m\n\u001b[1;32m    533\u001b[0m         \u001b[0;32mreturn\u001b[0m \u001b[0mresponse\u001b[0m\u001b[0;34m\u001b[0m\u001b[0;34m\u001b[0m\u001b[0m\n",
      "\u001b[0;32m/opt/conda/lib/python3.7/urllib/request.py\u001b[0m in \u001b[0;36mhttp_response\u001b[0;34m(self, request, response)\u001b[0m\n\u001b[1;32m    639\u001b[0m         \u001b[0;32mif\u001b[0m \u001b[0;32mnot\u001b[0m \u001b[0;34m(\u001b[0m\u001b[0;36m200\u001b[0m \u001b[0;34m<=\u001b[0m \u001b[0mcode\u001b[0m \u001b[0;34m<\u001b[0m \u001b[0;36m300\u001b[0m\u001b[0;34m)\u001b[0m\u001b[0;34m:\u001b[0m\u001b[0;34m\u001b[0m\u001b[0;34m\u001b[0m\u001b[0m\n\u001b[1;32m    640\u001b[0m             response = self.parent.error(\n\u001b[0;32m--> 641\u001b[0;31m                 'http', request, response, code, msg, hdrs)\n\u001b[0m\u001b[1;32m    642\u001b[0m \u001b[0;34m\u001b[0m\u001b[0m\n\u001b[1;32m    643\u001b[0m         \u001b[0;32mreturn\u001b[0m \u001b[0mresponse\u001b[0m\u001b[0;34m\u001b[0m\u001b[0;34m\u001b[0m\u001b[0m\n",
      "\u001b[0;32m/opt/conda/lib/python3.7/urllib/request.py\u001b[0m in \u001b[0;36merror\u001b[0;34m(self, proto, *args)\u001b[0m\n\u001b[1;32m    567\u001b[0m         \u001b[0;32mif\u001b[0m \u001b[0mhttp_err\u001b[0m\u001b[0;34m:\u001b[0m\u001b[0;34m\u001b[0m\u001b[0;34m\u001b[0m\u001b[0m\n\u001b[1;32m    568\u001b[0m             \u001b[0margs\u001b[0m \u001b[0;34m=\u001b[0m \u001b[0;34m(\u001b[0m\u001b[0mdict\u001b[0m\u001b[0;34m,\u001b[0m \u001b[0;34m'default'\u001b[0m\u001b[0;34m,\u001b[0m \u001b[0;34m'http_error_default'\u001b[0m\u001b[0;34m)\u001b[0m \u001b[0;34m+\u001b[0m \u001b[0morig_args\u001b[0m\u001b[0;34m\u001b[0m\u001b[0;34m\u001b[0m\u001b[0m\n\u001b[0;32m--> 569\u001b[0;31m             \u001b[0;32mreturn\u001b[0m \u001b[0mself\u001b[0m\u001b[0;34m.\u001b[0m\u001b[0m_call_chain\u001b[0m\u001b[0;34m(\u001b[0m\u001b[0;34m*\u001b[0m\u001b[0margs\u001b[0m\u001b[0;34m)\u001b[0m\u001b[0;34m\u001b[0m\u001b[0;34m\u001b[0m\u001b[0m\n\u001b[0m\u001b[1;32m    570\u001b[0m \u001b[0;34m\u001b[0m\u001b[0m\n\u001b[1;32m    571\u001b[0m \u001b[0;31m# XXX probably also want an abstract factory that knows when it makes\u001b[0m\u001b[0;34m\u001b[0m\u001b[0;34m\u001b[0m\u001b[0;34m\u001b[0m\u001b[0m\n",
      "\u001b[0;32m/opt/conda/lib/python3.7/urllib/request.py\u001b[0m in \u001b[0;36m_call_chain\u001b[0;34m(self, chain, kind, meth_name, *args)\u001b[0m\n\u001b[1;32m    501\u001b[0m         \u001b[0;32mfor\u001b[0m \u001b[0mhandler\u001b[0m \u001b[0;32min\u001b[0m \u001b[0mhandlers\u001b[0m\u001b[0;34m:\u001b[0m\u001b[0;34m\u001b[0m\u001b[0;34m\u001b[0m\u001b[0m\n\u001b[1;32m    502\u001b[0m             \u001b[0mfunc\u001b[0m \u001b[0;34m=\u001b[0m \u001b[0mgetattr\u001b[0m\u001b[0;34m(\u001b[0m\u001b[0mhandler\u001b[0m\u001b[0;34m,\u001b[0m \u001b[0mmeth_name\u001b[0m\u001b[0;34m)\u001b[0m\u001b[0;34m\u001b[0m\u001b[0;34m\u001b[0m\u001b[0m\n\u001b[0;32m--> 503\u001b[0;31m             \u001b[0mresult\u001b[0m \u001b[0;34m=\u001b[0m \u001b[0mfunc\u001b[0m\u001b[0;34m(\u001b[0m\u001b[0;34m*\u001b[0m\u001b[0margs\u001b[0m\u001b[0;34m)\u001b[0m\u001b[0;34m\u001b[0m\u001b[0;34m\u001b[0m\u001b[0m\n\u001b[0m\u001b[1;32m    504\u001b[0m             \u001b[0;32mif\u001b[0m \u001b[0mresult\u001b[0m \u001b[0;32mis\u001b[0m \u001b[0;32mnot\u001b[0m \u001b[0;32mNone\u001b[0m\u001b[0;34m:\u001b[0m\u001b[0;34m\u001b[0m\u001b[0;34m\u001b[0m\u001b[0m\n\u001b[1;32m    505\u001b[0m                 \u001b[0;32mreturn\u001b[0m \u001b[0mresult\u001b[0m\u001b[0;34m\u001b[0m\u001b[0;34m\u001b[0m\u001b[0m\n",
      "\u001b[0;32m/opt/conda/lib/python3.7/urllib/request.py\u001b[0m in \u001b[0;36mhttp_error_default\u001b[0;34m(self, req, fp, code, msg, hdrs)\u001b[0m\n\u001b[1;32m    647\u001b[0m \u001b[0;32mclass\u001b[0m \u001b[0mHTTPDefaultErrorHandler\u001b[0m\u001b[0;34m(\u001b[0m\u001b[0mBaseHandler\u001b[0m\u001b[0;34m)\u001b[0m\u001b[0;34m:\u001b[0m\u001b[0;34m\u001b[0m\u001b[0;34m\u001b[0m\u001b[0m\n\u001b[1;32m    648\u001b[0m     \u001b[0;32mdef\u001b[0m \u001b[0mhttp_error_default\u001b[0m\u001b[0;34m(\u001b[0m\u001b[0mself\u001b[0m\u001b[0;34m,\u001b[0m \u001b[0mreq\u001b[0m\u001b[0;34m,\u001b[0m \u001b[0mfp\u001b[0m\u001b[0;34m,\u001b[0m \u001b[0mcode\u001b[0m\u001b[0;34m,\u001b[0m \u001b[0mmsg\u001b[0m\u001b[0;34m,\u001b[0m \u001b[0mhdrs\u001b[0m\u001b[0;34m)\u001b[0m\u001b[0;34m:\u001b[0m\u001b[0;34m\u001b[0m\u001b[0;34m\u001b[0m\u001b[0m\n\u001b[0;32m--> 649\u001b[0;31m         \u001b[0;32mraise\u001b[0m \u001b[0mHTTPError\u001b[0m\u001b[0;34m(\u001b[0m\u001b[0mreq\u001b[0m\u001b[0;34m.\u001b[0m\u001b[0mfull_url\u001b[0m\u001b[0;34m,\u001b[0m \u001b[0mcode\u001b[0m\u001b[0;34m,\u001b[0m \u001b[0mmsg\u001b[0m\u001b[0;34m,\u001b[0m \u001b[0mhdrs\u001b[0m\u001b[0;34m,\u001b[0m \u001b[0mfp\u001b[0m\u001b[0;34m)\u001b[0m\u001b[0;34m\u001b[0m\u001b[0;34m\u001b[0m\u001b[0m\n\u001b[0m\u001b[1;32m    650\u001b[0m \u001b[0;34m\u001b[0m\u001b[0m\n\u001b[1;32m    651\u001b[0m \u001b[0;32mclass\u001b[0m \u001b[0mHTTPRedirectHandler\u001b[0m\u001b[0;34m(\u001b[0m\u001b[0mBaseHandler\u001b[0m\u001b[0;34m)\u001b[0m\u001b[0;34m:\u001b[0m\u001b[0;34m\u001b[0m\u001b[0;34m\u001b[0m\u001b[0m\n",
      "\u001b[0;31mHTTPError\u001b[0m: HTTP Error 401: Unauthorized"
     ]
    }
   ],
   "source": [
    "# main\n",
    "import os\n",
    "%matplotlib inline\n",
    "# Set Environment valiable with Windows Powershell\n",
    "# (venv) PS > $env:CLIENT_SECRET = <your client sercret>\n",
    "# (venv) PS > $env:CLIENT_ID = <your client id>\n",
    "\n",
    "\n",
    "CLIENT_ID = os.getenv('CLIENT_ID')\n",
    "CLIENT_SECRET = os.getenv('CLIENT_SECRET')\n",
    "ACCESS_TOKEN_PUBLISH_URL = \"https://api.ce-cotoha.com/v1/oauth/accesstokens\"\n",
    "DEVELOPER_API_BASE_URL = \"https://api.ce-cotoha.com/api/dev/nlp/\"\n",
    "\n",
    "cotoha_api = CotohaApi(CLIENT_ID, CLIENT_SECRET,\n",
    "                       DEVELOPER_API_BASE_URL, ACCESS_TOKEN_PUBLISH_URL)\n",
    "\n",
    "word_classes = [\"名詞\", \"動詞語幹\"]\n",
    "\n",
    "\n",
    "def get_summary(sentence):\n",
    "\n",
    "    # preprocess: remove filter\n",
    "    fixed_sentences_list = preprocess(sentence)\n",
    "\n",
    "    # cancatenate fixed sentences produced by remove filter api.\n",
    "    concat_sentence = \"\"\n",
    "    for fixed_sentence in fixed_sentences_list:\n",
    "        concat_sentence += fixed_sentence\n",
    "\n",
    "    # get synomnyms of the words produced by the parse api.\n",
    "    parsed_result = cotoha_api.parse(concat_sentence)\n",
    "    words = get_words_by_class(parsed_result, word_classes)\n",
    "    concat_words = \"\"\n",
    "    for word in words:\n",
    "        concat_words += word + \" \"\n",
    "\n",
    "    # Display summary\n",
    "    print(\"\\nInput:\\n\", \"-\"*40, \"\\n\", concat_sentence)\n",
    "    print(\"\\nOutput:\\n\", \"-\"*40)\n",
    "\n",
    "    # show emotion summmary\n",
    "    print(\"*** emotion summary ***\")\n",
    "    emotional, sentiment, score, emotions = emotion_score(\n",
    "        concat_sentence, verbose=False)\n",
    "    print(\"{}:{} score:{:.2f}\".format(list(emotional.values())[0], sentiment, score))\n",
    "    for key, values in emotions.items():\n",
    "        #print(\"  {}:{}\".format(values, key))\n",
    "        print(\"  {}:{}\".format(list(values.values())[0], key))\n",
    "\n",
    "    # show emoji summary of the sentence\n",
    "    print(\"\\n*** emoji summary ***\")\n",
    "    emojis_summary = show_emoji_summary(words)\n",
    "    if len(emojis_summary) > 0:\n",
    "        for word, emoji_dict in emojis_summary.items():\n",
    "            emojis = \"\"\n",
    "            emoji_words = \"\"\n",
    "            for emoji_word, emoji in emoji_dict.items():\n",
    "                emoji_words += emoji + \"(:\" + emoji_word + \":)\"\n",
    "            print(\"{:5}{}\".format(word, emoji_words))\n",
    "            \n",
    "    # show named entry summary of the sentence\n",
    "    print(\"\\n*** named entry summary ***\")\n",
    "    named_entries = cotoha_api.named_entry(concat_sentence)\n",
    "    if len(named_entries['result']) > 0:\n",
    "        named_entry_summary = \"\"\n",
    "        for named_entry in named_entries['result']:\n",
    "            named_entry_summary += named_entry['form'] + \" \"\n",
    "        try:\n",
    "            wc = get_wordcrowd_mask(named_entry_summary)\n",
    "            plt.imshow(wc, interpolation=\"bilinear\")\n",
    "            plt.axis(\"off\")\n",
    "        except ValueError as e:\n",
    "            print(e)"
   ]
  },
  {
   "cell_type": "code",
   "execution_count": null,
   "metadata": {},
   "outputs": [],
   "source": [
    "get_summary(sentence1)"
   ]
  },
  {
   "cell_type": "code",
   "execution_count": null,
   "metadata": {},
   "outputs": [],
   "source": [
    "get_summary(sentence2)"
   ]
  },
  {
   "cell_type": "code",
   "execution_count": 45,
   "metadata": {},
   "outputs": [
    {
     "ename": "NameError",
     "evalue": "name 'get_summary' is not defined",
     "output_type": "error",
     "traceback": [
      "\u001b[0;31m---------------------------------------------------------------------------\u001b[0m",
      "\u001b[0;31mNameError\u001b[0m                                 Traceback (most recent call last)",
      "\u001b[0;32m<ipython-input-45-a95deca2313c>\u001b[0m in \u001b[0;36m<module>\u001b[0;34m\u001b[0m\n\u001b[0;32m----> 1\u001b[0;31m \u001b[0mget_summary\u001b[0m\u001b[0;34m(\u001b[0m\u001b[0msentence3\u001b[0m\u001b[0;34m)\u001b[0m\u001b[0;34m\u001b[0m\u001b[0;34m\u001b[0m\u001b[0m\n\u001b[0m",
      "\u001b[0;31mNameError\u001b[0m: name 'get_summary' is not defined"
     ]
    }
   ],
   "source": [
    "get_summary(sentence3)"
   ]
  },
  {
   "cell_type": "markdown",
   "metadata": {},
   "source": [
    "# Remove Filter and Sentiment Score"
   ]
  },
  {
   "cell_type": "code",
   "execution_count": 46,
   "metadata": {},
   "outputs": [
    {
     "name": "stdout",
     "output_type": "stream",
     "text": [
      "HTTP Error 400: Bad Request\n"
     ]
    },
    {
     "name": "stderr",
     "output_type": "stream",
     "text": [
      "Traceback (most recent call last):\n",
      "  File \"<ipython-input-2-bac01209f771>\", line 22, in request\n",
      "    with urllib.request.urlopen(req) as res:\n",
      "  File \"/opt/conda/lib/python3.7/urllib/request.py\", line 222, in urlopen\n",
      "    return opener.open(url, data, timeout)\n",
      "  File \"/opt/conda/lib/python3.7/urllib/request.py\", line 531, in open\n",
      "    response = meth(req, response)\n",
      "  File \"/opt/conda/lib/python3.7/urllib/request.py\", line 641, in http_response\n",
      "    'http', request, response, code, msg, hdrs)\n",
      "  File \"/opt/conda/lib/python3.7/urllib/request.py\", line 563, in error\n",
      "    result = self._call_chain(*args)\n",
      "  File \"/opt/conda/lib/python3.7/urllib/request.py\", line 503, in _call_chain\n",
      "    result = func(*args)\n",
      "  File \"/opt/conda/lib/python3.7/urllib/request.py\", line 755, in http_error_302\n",
      "    return self.parent.open(new, timeout=req.timeout)\n",
      "  File \"/opt/conda/lib/python3.7/urllib/request.py\", line 531, in open\n",
      "    response = meth(req, response)\n",
      "  File \"/opt/conda/lib/python3.7/urllib/request.py\", line 641, in http_response\n",
      "    'http', request, response, code, msg, hdrs)\n",
      "  File \"/opt/conda/lib/python3.7/urllib/request.py\", line 569, in error\n",
      "    return self._call_chain(*args)\n",
      "  File \"/opt/conda/lib/python3.7/urllib/request.py\", line 503, in _call_chain\n",
      "    result = func(*args)\n",
      "  File \"/opt/conda/lib/python3.7/urllib/request.py\", line 649, in http_error_default\n",
      "    raise HTTPError(req.full_url, code, msg, hdrs, fp)\n",
      "urllib.error.HTTPError: HTTP Error 400: Bad Request\n"
     ]
    },
    {
     "ename": "TypeError",
     "evalue": "cannot unpack non-iterable NoneType object",
     "output_type": "error",
     "traceback": [
      "\u001b[0;31m---------------------------------------------------------------------------\u001b[0m",
      "\u001b[0;31mTypeError\u001b[0m                                 Traceback (most recent call last)",
      "\u001b[0;32m<ipython-input-46-e4ffcae98b37>\u001b[0m in \u001b[0;36m<module>\u001b[0;34m\u001b[0m\n\u001b[1;32m      1\u001b[0m \u001b[0;31m# without preprocess\u001b[0m\u001b[0;34m\u001b[0m\u001b[0;34m\u001b[0m\u001b[0;34m\u001b[0m\u001b[0m\n\u001b[1;32m      2\u001b[0m \u001b[0msentence\u001b[0m \u001b[0;34m=\u001b[0m \u001b[0;34m\"えーーっと、あの、今日の打ち合わせでしたっけ。すみません、ちょっと、急用が入ってしまって。\"\u001b[0m\u001b[0;34m\u001b[0m\u001b[0;34m\u001b[0m\u001b[0m\n\u001b[0;32m----> 3\u001b[0;31m \u001b[0mresult\u001b[0m \u001b[0;34m=\u001b[0m \u001b[0mcotoha_api\u001b[0m\u001b[0;34m.\u001b[0m\u001b[0msentiment\u001b[0m\u001b[0;34m(\u001b[0m\u001b[0msentence\u001b[0m\u001b[0;34m)\u001b[0m\u001b[0;34m\u001b[0m\u001b[0;34m\u001b[0m\u001b[0m\n\u001b[0m\u001b[1;32m      4\u001b[0m \u001b[0mpprint\u001b[0m\u001b[0;34m(\u001b[0m\u001b[0mresult\u001b[0m\u001b[0;34m)\u001b[0m\u001b[0;34m\u001b[0m\u001b[0;34m\u001b[0m\u001b[0m\n",
      "\u001b[0;32m<ipython-input-2-bac01209f771>\u001b[0m in \u001b[0;36msentiment\u001b[0;34m(self, sentence)\u001b[0m\n\u001b[1;32m    129\u001b[0m             \u001b[0;34m\"sentence\"\u001b[0m\u001b[0;34m:\u001b[0m \u001b[0msentence\u001b[0m\u001b[0;34m\u001b[0m\u001b[0;34m\u001b[0m\u001b[0m\n\u001b[1;32m    130\u001b[0m         }\n\u001b[0;32m--> 131\u001b[0;31m         \u001b[0mres_body\u001b[0m\u001b[0;34m,\u001b[0m \u001b[0mstatus\u001b[0m\u001b[0;34m,\u001b[0m \u001b[0mreason\u001b[0m \u001b[0;34m=\u001b[0m \u001b[0mself\u001b[0m\u001b[0;34m.\u001b[0m\u001b[0mrequest\u001b[0m\u001b[0;34m(\u001b[0m\u001b[0murl\u001b[0m\u001b[0;34m,\u001b[0m \u001b[0mdata\u001b[0m\u001b[0;34m)\u001b[0m\u001b[0;34m\u001b[0m\u001b[0;34m\u001b[0m\u001b[0m\n\u001b[0m\u001b[1;32m    132\u001b[0m         \u001b[0;32mreturn\u001b[0m \u001b[0mres_body\u001b[0m\u001b[0;34m\u001b[0m\u001b[0;34m\u001b[0m\u001b[0m\n\u001b[1;32m    133\u001b[0m \u001b[0;34m\u001b[0m\u001b[0m\n",
      "\u001b[0;31mTypeError\u001b[0m: cannot unpack non-iterable NoneType object"
     ]
    }
   ],
   "source": [
    "# without preprocess\n",
    "sentence = \"えーーっと、あの、今日の打ち合わせでしたっけ。すみません、ちょっと、急用が入ってしまって。\"\n",
    "result = cotoha_api.sentiment(sentence)\n",
    "pprint(result)"
   ]
  },
  {
   "cell_type": "code",
   "execution_count": null,
   "metadata": {},
   "outputs": [],
   "source": [
    "# show a little bit better score than the above (without remove filter)\n",
    "# preprocess: remove filter\n",
    "fixed_sentences_list = preprocess(sentence)\n",
    "\n",
    "# cancatenate fixed sentences produced by remove filter api.\n",
    "concat_sentence=\"\"\n",
    "for fixed_sentence in fixed_sentences_list:\n",
    "        concat_sentence+=fixed_sentence\n",
    "print(concat_sentence)\n",
    "result = cotoha_api.sentiment(concat_sentence)\n",
    "pprint(result)"
   ]
  },
  {
   "cell_type": "code",
   "execution_count": 47,
   "metadata": {},
   "outputs": [
    {
     "ename": "NameError",
     "evalue": "name 'preprocess' is not defined",
     "output_type": "error",
     "traceback": [
      "\u001b[0;31m---------------------------------------------------------------------------\u001b[0m",
      "\u001b[0;31mNameError\u001b[0m                                 Traceback (most recent call last)",
      "\u001b[0;32m<ipython-input-47-43b509df528a>\u001b[0m in \u001b[0;36m<module>\u001b[0;34m\u001b[0m\n\u001b[1;32m      1\u001b[0m \u001b[0;31m# by each sentence\u001b[0m\u001b[0;34m\u001b[0m\u001b[0;34m\u001b[0m\u001b[0;34m\u001b[0m\u001b[0m\n\u001b[0;32m----> 2\u001b[0;31m \u001b[0mfixed_sentences\u001b[0m \u001b[0;34m=\u001b[0m \u001b[0mpreprocess\u001b[0m\u001b[0;34m(\u001b[0m\u001b[0msentence\u001b[0m\u001b[0;34m)\u001b[0m\u001b[0;34m\u001b[0m\u001b[0;34m\u001b[0m\u001b[0m\n\u001b[0m\u001b[1;32m      3\u001b[0m \u001b[0mprint\u001b[0m\u001b[0;34m(\u001b[0m\u001b[0mfixed_sentences\u001b[0m\u001b[0;34m)\u001b[0m\u001b[0;34m\u001b[0m\u001b[0;34m\u001b[0m\u001b[0m\n\u001b[1;32m      4\u001b[0m \u001b[0;32mfor\u001b[0m \u001b[0mfixed_sentence\u001b[0m \u001b[0;32min\u001b[0m \u001b[0mfixed_sentences\u001b[0m\u001b[0;34m:\u001b[0m\u001b[0;34m\u001b[0m\u001b[0;34m\u001b[0m\u001b[0m\n\u001b[1;32m      5\u001b[0m     \u001b[0mresult\u001b[0m \u001b[0;34m=\u001b[0m \u001b[0mcotoha_api\u001b[0m\u001b[0;34m.\u001b[0m\u001b[0msentiment\u001b[0m\u001b[0;34m(\u001b[0m\u001b[0mfixed_sentence\u001b[0m\u001b[0;34m)\u001b[0m\u001b[0;34m\u001b[0m\u001b[0;34m\u001b[0m\u001b[0m\n",
      "\u001b[0;31mNameError\u001b[0m: name 'preprocess' is not defined"
     ]
    }
   ],
   "source": [
    "# by each sentence\n",
    "fixed_sentences = preprocess(sentence)\n",
    "print(fixed_sentences)\n",
    "for fixed_sentence in fixed_sentences:\n",
    "    result = cotoha_api.sentiment(fixed_sentence)\n",
    "    pprint(result)   "
   ]
  },
  {
   "cell_type": "code",
   "execution_count": null,
   "metadata": {},
   "outputs": [],
   "source": []
  },
  {
   "cell_type": "code",
   "execution_count": null,
   "metadata": {},
   "outputs": [],
   "source": []
  }
 ],
 "metadata": {
  "kernelspec": {
   "display_name": "Python 3",
   "language": "python",
   "name": "python3"
  },
  "language_info": {
   "codemirror_mode": {
    "name": "ipython",
    "version": 3
   },
   "file_extension": ".py",
   "mimetype": "text/x-python",
   "name": "python",
   "nbconvert_exporter": "python",
   "pygments_lexer": "ipython3",
   "version": "3.7.6"
  },
  "toc": {
   "base_numbering": 1,
   "nav_menu": {},
   "number_sections": true,
   "sideBar": true,
   "skip_h1_title": false,
   "title_cell": "Table of Contents",
   "title_sidebar": "Contents",
   "toc_cell": false,
   "toc_position": {
    "height": "calc(100% - 180px)",
    "left": "10px",
    "top": "150px",
    "width": "244.516px"
   },
   "toc_section_display": true,
   "toc_window_display": true
  }
 },
 "nbformat": 4,
 "nbformat_minor": 2
}
